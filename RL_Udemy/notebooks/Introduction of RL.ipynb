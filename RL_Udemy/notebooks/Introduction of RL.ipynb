{
 "cells": [
  {
   "cell_type": "markdown",
   "metadata": {},
   "source": [
    "## RL\n",
    "- RL is very different from supervised/unsupervised learning\n",
    "- Supervised/unsupervised learning analyzes/makes prediction about data\n",
    "- RL is training an agent to interact with its environment and maximize a reward (making (un)supervised seem boring in hindsight)\n",
    "    - Sequential\n",
    "    - Interactive\n",
    "- RL agents have an impetus - they want to achieve a goal"
   ]
  },
  {
   "cell_type": "markdown",
   "metadata": {},
   "source": [
    "## Techniques\n",
    "- Markov Decision Processe\n",
    "- Dynamic Programming \n",
    "- Monte Carlo\n",
    "- Temporal Difference Learning\n",
    "- RBF Networks\n",
    "\n",
    "Goal: \n",
    "- to solve the \"control problem\" - learning the optimal policy\n",
    "- need the optimal value function\n",
    "- update a dictionary __Q(s,a):(Q-table)__\n",
    "    - Q table is not that useful because state spaces grow exponentially\n",
    "    - Approximation methods allow us to scale to large/infinite state spaces\n",
    "        - And these function approximators need to be differentiable, so trainable using gradient descent"
   ]
  },
  {
   "cell_type": "code",
   "execution_count": null,
   "metadata": {},
   "outputs": [],
   "source": []
  }
 ],
 "metadata": {
  "kernelspec": {
   "display_name": "Python 3",
   "language": "python",
   "name": "python3"
  },
  "language_info": {
   "codemirror_mode": {
    "name": "ipython",
    "version": 3
   },
   "file_extension": ".py",
   "mimetype": "text/x-python",
   "name": "python",
   "nbconvert_exporter": "python",
   "pygments_lexer": "ipython3",
   "version": "3.5.2"
  },
  "latex_envs": {
   "LaTeX_envs_menu_present": true,
   "autoclose": false,
   "autocomplete": true,
   "bibliofile": "biblio.bib",
   "cite_by": "apalike",
   "current_citInitial": 1,
   "eqLabelWithNumbers": true,
   "eqNumInitial": 1,
   "hotkeys": {
    "equation": "Ctrl-E",
    "itemize": "Ctrl-I"
   },
   "labels_anchors": false,
   "latex_user_defs": false,
   "report_style_numbering": false,
   "user_envs_cfg": false
  }
 },
 "nbformat": 4,
 "nbformat_minor": 2
}
