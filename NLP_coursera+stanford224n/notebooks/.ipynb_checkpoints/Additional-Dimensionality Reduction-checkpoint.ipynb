{
 "cells": [
  {
   "cell_type": "markdown",
   "metadata": {},
   "source": [
    "### Data Compression"
   ]
  },
  {
   "cell_type": "markdown",
   "metadata": {},
   "source": [
    "\n",
    "$$\\text{ project } (x_1^{i},x_2^{i}) \\text{ onto a line z}$$\n",
    "\n",
    "- so that now we only have to store one number for each to pinpoint the location after\n",
    "projection, thus save half the memory needed\n",
    "\n",
    "![](../images/14.png)\n",
    "\n",
    "![](../images/15.png)\n",
    "\n",
    "- So now we only need two numbers to pinpoint the location after projecting 3D to 2D\n",
    "\n",
    "\n",
    "\n",
    "For instance:\n",
    "\n",
    "![](../images/16.png)\n",
    "\n",
    "![](../images/17.png)\n",
    "\n",
    "![](../images/18.png)\n",
    "\n",
    "\n"
   ]
  },
  {
   "cell_type": "markdown",
   "metadata": {},
   "source": [
    "### PCA"
   ]
  },
  {
   "cell_type": "markdown",
   "metadata": {},
   "source": [
    "![](../images/19.png)\n",
    "\n",
    "- Goal: project data onto the linear subspace spanned by this set of K vectors(in this case, 2D: subspace spanned by 2 vectors)\n",
    "\n",
    "__What PCA does is to find a line or plane onto which the projected data to try to minimize that square projection error__\n",
    "\n",
    "> What's the difference between PCA and Linear Regression?\n",
    "\n",
    "![](../images/20.png)\n",
    "\n",
    "Error: \n",
    "\n",
    "- PCA: distance to the projected line;\n",
    "- Linear Regression: residual\n",
    "\n",
    "\n",
    "Algorithm:\n",
    "\n",
    "![](../images/21.png)\n",
    "\n",
    "![](../images/22.png)\n",
    "\n",
    "\n",
    "### Choosing k\n",
    "\n",
    "$$\\frac{1}{m} \\sum^m_{i=1} ||x^{(i)} - x_{approx}^{(i)}||^2$$\n",
    "\n",
    "![](../images/23.png)\n",
    "\n",
    "![](../images/24.png)\n",
    "\n",
    "![](../images/25.png)\n",
    "\n",
    "\n",
    "### Reconstruction From Compressed Representation\n",
    "\n",
    "![](../images/26.png)"
   ]
  }
 ],
 "metadata": {
  "kernelspec": {
   "display_name": "Python 3",
   "language": "python",
   "name": "python3"
  },
  "language_info": {
   "codemirror_mode": {
    "name": "ipython",
    "version": 3
   },
   "file_extension": ".py",
   "mimetype": "text/x-python",
   "name": "python",
   "nbconvert_exporter": "python",
   "pygments_lexer": "ipython3",
   "version": "3.5.2"
  },
  "latex_envs": {
   "LaTeX_envs_menu_present": true,
   "autoclose": false,
   "autocomplete": true,
   "bibliofile": "biblio.bib",
   "cite_by": "apalike",
   "current_citInitial": 1,
   "eqLabelWithNumbers": true,
   "eqNumInitial": 1,
   "hotkeys": {
    "equation": "Ctrl-E",
    "itemize": "Ctrl-I"
   },
   "labels_anchors": false,
   "latex_user_defs": false,
   "report_style_numbering": false,
   "user_envs_cfg": false
  }
 },
 "nbformat": 4,
 "nbformat_minor": 2
}
