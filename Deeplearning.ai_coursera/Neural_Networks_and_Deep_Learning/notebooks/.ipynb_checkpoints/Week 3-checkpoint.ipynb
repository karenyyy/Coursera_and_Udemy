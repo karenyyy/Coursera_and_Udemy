{
 "cells": [
  {
   "cell_type": "markdown",
   "metadata": {},
   "source": [
    "## Neural Network Representation"
   ]
  },
  {
   "cell_type": "markdown",
   "metadata": {},
   "source": [
    "![](../images/22.png)\n",
    "\n",
    "__Notes: the input layer does not count as an official layer(layer 0)__\n",
    "\n",
    "![](../images/23.png)\n",
    "\n",
    "![](../images/24.png)\n",
    "\n",
    "### Further explanation of how the vectorization works: (__pay attention to how the shape changes!__)\n",
    "\n",
    "![](../images/25.png)\n",
    "\n"
   ]
  },
  {
   "cell_type": "markdown",
   "metadata": {
    "heading_collapsed": true
   },
   "source": [
    "### Activation Function"
   ]
  },
  {
   "cell_type": "markdown",
   "metadata": {
    "hidden": true
   },
   "source": [
    "\n",
    "![](../images/26.png)\n",
    "- Seldom use sigmoid, only for binary classification\n",
    "- can use different activation function at different layers(hidden tanh, output sigmoid)\n",
    "\n",
    "__Downside__:\n",
    "- if Z is either very large or very small, then the derivative of the function becomes very small (gradient vanishing)\n",
    "\n",
    "> How to fix?\n",
    "\n",
    "__RELU__\n",
    "\n",
    "![](../images/27.png)\n",
    "\n",
    "__Rule of thumbs when choosing activation function:__\n",
    "\n",
    "- if output is 0/1 -> sigmoid\n",
    "- otherwise, the default choice is always __RELU__\n",
    "    - and __RELU__ always make model training faster, since less of the effect of the slope of the function slowing down the gradient descent\n",
    "    \n",
    "    \n",
    "__Summary__    \n",
    "![](../images/28.png)    \n",
    "\n",
    "\n",
    "### Why does NN need a non-linear activation function\n",
    "\n",
    " \n",
    "if not, then you will end up with a linear function in the end. (__Exceptions: sometimes linear activation function could be used in the output layer(fully connected layer)__)\n",
    "\n",
    "![](../images/29.png) \n",
    "\n"
   ]
  },
  {
   "cell_type": "markdown",
   "metadata": {
    "heading_collapsed": true
   },
   "source": [
    "### Backpropagation"
   ]
  },
  {
   "cell_type": "markdown",
   "metadata": {
    "hidden": true
   },
   "source": [
    "![](../images/30.png) \n",
    "\n",
    "> Here: \n",
    "$$\\text{since } \\frac{\\partial L}{\\partial z} = \\frac{\\partial L}{\\partial a}  \\cdot \\frac{\\partial a}{\\partial z}$$\n",
    "\n",
    "$$\\text{ so } dz = a-y = da \\cdot g'(z), \\text{ where } da=\\frac{d}{da}L(a,y) = [-y \\log a- (1-y) \\log (1-a)]' = - \\frac{y}{a} + \\frac{1-y}{1-a} $$\n",
    "\n",
    "$$\\text{ and when } g(z) = \\frac{1}{1+e^{-z}}, g'(z) = g(z)(1-g(z))$$\n",
    "\n",
    "$$\\text{ so, } dz = da \\cdot g'(z) = \\frac{-y(1-a)+a(1-y)}{a(1-a)} \\cdot [a(1-a)] $$\n",
    "\n",
    "![](../images/31.png) \n",
    "\n",
    "![](../images/32.png) "
   ]
  },
  {
   "cell_type": "markdown",
   "metadata": {},
   "source": [
    "### Random initialization"
   ]
  },
  {
   "cell_type": "markdown",
   "metadata": {},
   "source": [
    "![](../images/33.png)\n",
    "\n",
    "__Symmetric Breaking Problem__\n",
    "\n",
    "Result: Each neuron in the __first hidden layer__ will perform the same computation. So even after multiple iterations of gradient descent each neuron in the layer will be computing the same thing as other neurons. (__want different hidden units computing different functions__)\n",
    "\n",
    "![](../images/34.png)\n",
    "\n",
    "\n",
    "__Note: Make sure w is small to _avoid gradient vanishing___\n",
    "![](../images/35.png)\n",
    "\n",
    "\n"
   ]
  },
  {
   "cell_type": "markdown",
   "metadata": {},
   "source": [
    "### Other notes\n",
    "\n",
    "- The tanh activation usually works better than sigmoid activation function for hidden units because the mean of its output is closer to zero, and so it centers the data better for the next layer. (_As seen in lecture the output of the tanh is between -1 and 1, it thus centers the data which makes the learning simpler for the next layer._)\n"
   ]
  }
 ],
 "metadata": {
  "kernelspec": {
   "display_name": "Python 3",
   "language": "python",
   "name": "python3"
  },
  "language_info": {
   "codemirror_mode": {
    "name": "ipython",
    "version": 3
   },
   "file_extension": ".py",
   "mimetype": "text/x-python",
   "name": "python",
   "nbconvert_exporter": "python",
   "pygments_lexer": "ipython3",
   "version": "3.5.2"
  },
  "latex_envs": {
   "LaTeX_envs_menu_present": true,
   "autoclose": false,
   "autocomplete": true,
   "bibliofile": "biblio.bib",
   "cite_by": "apalike",
   "current_citInitial": 1,
   "eqLabelWithNumbers": true,
   "eqNumInitial": 1,
   "hotkeys": {
    "equation": "Ctrl-E",
    "itemize": "Ctrl-I"
   },
   "labels_anchors": false,
   "latex_user_defs": false,
   "report_style_numbering": false,
   "user_envs_cfg": false
  }
 },
 "nbformat": 4,
 "nbformat_minor": 2
}
