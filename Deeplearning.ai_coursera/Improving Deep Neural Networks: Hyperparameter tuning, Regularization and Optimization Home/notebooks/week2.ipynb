{
 "cells": [
  {
   "cell_type": "markdown",
   "metadata": {},
   "source": [
    "## Mini-batch gradient descent"
   ]
  },
  {
   "cell_type": "markdown",
   "metadata": {},
   "source": [
    "![](../images/26.png)\n",
    "\n",
    "- cluster a batch as one variable for training\n",
    "\n",
    "![](../images/27.png)\n",
    "\n",
    "- Cost oscillates when using mini-batch gradient descent\n",
    "\n",
    "![](../images/28.png)\n",
    "\n",
    "- Choosing your mini-batch size\n",
    "    - If mini-batch size = m: Batch GD\n",
    "    - If mini-batch size = 1: Stochastic GD\n",
    "        - __Every example is its own mini-batch.__\n",
    "        \n",
    "![](../images/29.png)\n",
    "\n",
    "- The batch GD might start somewhere and be able to take relatively low noise, large steps, and keep marching to the minimum.\n",
    "- The stochastic GD can be extremely noisy, won't always converge, always oscillate and wander around the region of the minimum.\n",
    "\n",
    "__In practice, mini-batch size should be in between [1, n]__\n",
    "\n"
   ]
  }
 ],
 "metadata": {
  "kernelspec": {
   "display_name": "Python 3",
   "language": "python",
   "name": "python3"
  },
  "language_info": {
   "codemirror_mode": {
    "name": "ipython",
    "version": 3
   },
   "file_extension": ".py",
   "mimetype": "text/x-python",
   "name": "python",
   "nbconvert_exporter": "python",
   "pygments_lexer": "ipython3",
   "version": "3.5.2"
  },
  "latex_envs": {
   "LaTeX_envs_menu_present": true,
   "autoclose": false,
   "autocomplete": true,
   "bibliofile": "biblio.bib",
   "cite_by": "apalike",
   "current_citInitial": 1,
   "eqLabelWithNumbers": true,
   "eqNumInitial": 1,
   "hotkeys": {
    "equation": "Ctrl-E",
    "itemize": "Ctrl-I"
   },
   "labels_anchors": false,
   "latex_user_defs": false,
   "report_style_numbering": false,
   "user_envs_cfg": false
  }
 },
 "nbformat": 4,
 "nbformat_minor": 2
}
