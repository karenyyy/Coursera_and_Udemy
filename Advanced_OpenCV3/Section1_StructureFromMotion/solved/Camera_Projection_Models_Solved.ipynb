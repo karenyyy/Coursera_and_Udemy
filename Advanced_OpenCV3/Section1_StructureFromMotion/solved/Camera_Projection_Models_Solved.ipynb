{
 "cells": [
  {
   "cell_type": "markdown",
   "metadata": {},
   "source": [
    "### 1. Testing the development environment"
   ]
  },
  {
   "cell_type": "code",
   "execution_count": 1,
   "metadata": {},
   "outputs": [
    {
     "name": "stdout",
     "output_type": "stream",
     "text": [
      "OpenCV version 3.1.0\n",
      "Numpy version 1.13.1\n"
     ]
    }
   ],
   "source": [
    "import cv2\n",
    "import numpy as np\n",
    "\n",
    "# Checking the OpenCV version\n",
    "print(\"OpenCV version\", cv2.__version__)\n",
    "\n",
    "# Checking the Numpy version\n",
    "print(\"Numpy version\", np.__version__)\n"
   ]
  },
  {
   "cell_type": "markdown",
   "metadata": {},
   "source": [
    "### 2. The Pinhole Camera Model\n",
    "\n",
    "A pinhole camera is a basic example of a real camera except that there is no lenses and hence no radial distortion. And the camera aperture is as small as a small point made with a pin, hence the name.\n",
    "\n",
    "When viewing a 3D scene from a pinhole camera , light rays pass through the point-size aperture and generate an inverted image.This way, a point I(X,Y,Z) in 3D is mapped to a 2D image as i(x,y) on the image plane."
   ]
  },
  {
   "cell_type": "markdown",
   "metadata": {},
   "source": [
    "### 2. Calculating the Intrinsic Camera Parameters"
   ]
  },
  {
   "cell_type": "code",
   "execution_count": 6,
   "metadata": {},
   "outputs": [
    {
     "name": "stdout",
     "output_type": "stream",
     "text": [
      "Intrinsic Camera Matrix\n",
      "=======================\n",
      "[[ 533.92800309    0.          342.31915135]\n",
      " [   0.          533.91489909  233.46349085]\n",
      " [   0.            0.            1.        ]]\n",
      "Camera Centers\n",
      "=======================\n",
      "Cx: 342.319151354846 Cy: 233.4634908536116\n",
      "Focal Lengths\n",
      "=======================\n",
      "Fx: 533.9280030878523 Fy: 533.9148990928961\n"
     ]
    }
   ],
   "source": [
    "import numpy as np\n",
    "import cv2\n",
    "import os\n",
    "import glob\n",
    "from matplotlib import pyplot as plt\n",
    "\n",
    "% matplotlib inline\n",
    "\n",
    "# Using the sample images provided with OpenCV\n",
    "PATTERN_PATH = os.path.join(\"/\",\"opencv\",\"samples\",\"data\")\n",
    "\n",
    "# we will be using this as a corner refinement criteria, while detecting chessboard corners\n",
    "criteria = (cv2.TERM_CRITERIA_EPS  + cv2.TERM_CRITERIA_MAX_ITER, 30, 0.001)\n",
    "\n",
    "# preparing object points with Z = 0\n",
    "objp = np.zeros((6*7,3), np.float32)\n",
    "\n",
    "objp[:,:2] = np.mgrid[0:7,0:6].T.reshape(-1,2)\n",
    "\n",
    "obj_points = []\n",
    "image_points = []\n",
    "\n",
    "for image in glob.glob(os.path.join(PATTERN_PATH,\"left*.jpg\")):\n",
    "    img = cv2.imread(image)\n",
    "    gray = cv2.cvtColor(img, cv2.COLOR_BGR2GRAY)\n",
    "\n",
    "    # Find the chessboard corners\n",
    "    ret, corners = cv2.findChessboardCorners(gray, (7,6), None)\n",
    "\n",
    "    if ret == True:\n",
    "        obj_points.append(objp)\n",
    "        \n",
    "        # Further refines the corners detected in the images, by setting up a custom refinement criteria\n",
    "        # as we have passed\n",
    "        corners2 = cv2.cornerSubPix(gray, corners, (11,11), (-1,-1), criteria)\n",
    "        \n",
    "        image_points.append(corners2)\n",
    "\n",
    "# At this stage we have both the object points and the image points\n",
    "# next, we will need to calibrate the camera using the image and the object points , to get the camera matrix\n",
    "\n",
    "# Using some random image from 1-12\n",
    "img = cv2.imread(os.path.join(PATTERN_PATH,\"left12.jpg\"))\n",
    "h, w = img.shape[:2]\n",
    "\n",
    "# Finds the camera intrinsic and extrinsic parameters from several views of a calibration pattern\n",
    "ret, mtx, dist, rvecs, tvecs = cv2.calibrateCamera(obj_points, image_points, (h,w), None, None)\n",
    "\n",
    "# Rendering the Intrinsic Camera matrix\n",
    "print(\"Intrinsic Camera Matrix\")\n",
    "print(\"=======================\")\n",
    "print(mtx)\n",
    "\n",
    "print(\"Camera Centers\")\n",
    "print(\"=======================\")\n",
    "print(\"Cx: {0} Cy: {1}\".format(mtx[0][2],mtx[1][2]))\n",
    "\n",
    "print(\"Focal Lengths\")\n",
    "print(\"=======================\")\n",
    "print(\"Fx: {0} Fy: {1}\".format(mtx[0][0],mtx[1][1]))"
   ]
  },
  {
   "cell_type": "markdown",
   "metadata": {},
   "source": [
    "### 3. Calculating the Extrinsic Camera Parameters\n",
    "\n",
    "Extrinsic parameters corresponds to rotation and translation vectors which translates a coordinates of a 3D point to a coordinate system.\n"
   ]
  },
  {
   "cell_type": "code",
   "execution_count": 11,
   "metadata": {},
   "outputs": [
    {
     "name": "stdout",
     "output_type": "stream",
     "text": [
      "Extrinsic Camera Parameters\n",
      "\n",
      "Translation Matrix\n",
      "=======================\n",
      "[array([[ -2.14297702],\n",
      "       [  1.83318721],\n",
      "       [ 12.80607322]]), array([[ -1.65244028],\n",
      "       [  3.59522054],\n",
      "       [ 12.11224381]]), array([[  3.77465655],\n",
      "       [  0.88431278],\n",
      "       [ 14.85357872]]), array([[ -5.96791894],\n",
      "       [  2.37916002],\n",
      "       [ 16.76731324]]), array([[ -2.91555403],\n",
      "       [  2.61048343],\n",
      "       [ 10.57235102]]), array([[  2.80671794],\n",
      "       [  2.21295429],\n",
      "       [ 10.95796396]]), array([[ -3.29643766],\n",
      "       [  2.14673946],\n",
      "       [ 11.72233884]]), array([[ 3.02196488],\n",
      "       [ 2.73676165],\n",
      "       [ 9.90206258]]), array([[  1.57919494],\n",
      "       [  3.79673211],\n",
      "       [ 16.11636046]]), array([[-1.15402869],\n",
      "       [ 2.66532294],\n",
      "       [ 9.56076788]])]\n",
      "Rotational Matrix\n",
      "=======================\n",
      "[array([[ 0.41691156],\n",
      "       [ 0.65602195],\n",
      "       [-1.33673062]]), array([[ 0.49300025],\n",
      "       [-0.18231058],\n",
      "       [-1.73330584]]), array([[-0.43138879],\n",
      "       [ 0.25750322],\n",
      "       [-3.0881479 ]]), array([[-0.31820362],\n",
      "       [ 0.15922166],\n",
      "       [-1.24150306]]), array([[-0.35153634],\n",
      "       [-0.24365975],\n",
      "       [-1.56914443]]), array([[-0.37676259],\n",
      "       [-0.17860056],\n",
      "       [-3.11646073]]), array([[-0.45690588],\n",
      "       [-0.08867271],\n",
      "       [-1.33546611]]), array([[-0.26297913],\n",
      "       [-0.39189574],\n",
      "       [-2.74846045]]), array([[-0.29827536],\n",
      "       [ 0.3915038 ],\n",
      "       [-1.43476453]]), array([[-0.45802743],\n",
      "       [-0.31382203],\n",
      "       [-1.76180979]])]\n"
     ]
    }
   ],
   "source": [
    "# Rendering the Extrinsic Camera matrix\n",
    "print(\"Extrinsic Camera Parameters\")\n",
    "print(\"\")\n",
    "\n",
    "print(\"Translation Matrix\")\n",
    "print(\"=======================\")\n",
    "print(tvecs)\n",
    "\n",
    "print(\"Rotational Matrix\")\n",
    "print(\"=======================\")\n",
    "print(rvecs)"
   ]
  },
  {
   "cell_type": "code",
   "execution_count": null,
   "metadata": {
    "collapsed": true
   },
   "outputs": [],
   "source": []
  }
 ],
 "metadata": {
  "kernelspec": {
   "display_name": "Python 3",
   "language": "python",
   "name": "python3"
  },
  "language_info": {
   "codemirror_mode": {
    "name": "ipython",
    "version": 3
   },
   "file_extension": ".py",
   "mimetype": "text/x-python",
   "name": "python",
   "nbconvert_exporter": "python",
   "pygments_lexer": "ipython3",
   "version": "3.5.2"
  }
 },
 "nbformat": 4,
 "nbformat_minor": 2
}
