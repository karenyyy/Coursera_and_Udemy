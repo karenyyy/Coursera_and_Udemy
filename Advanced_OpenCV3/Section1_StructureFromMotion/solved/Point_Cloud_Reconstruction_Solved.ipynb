{
 "cells": [
  {
   "cell_type": "markdown",
   "metadata": {},
   "source": [
    "### 1. Testing the development environment"
   ]
  },
  {
   "cell_type": "code",
   "execution_count": null,
   "metadata": {
    "collapsed": true
   },
   "outputs": [],
   "source": [
    "import cv2\n",
    "import numpy as np\n",
    "\n",
    "# Checking the OpenCV version\n",
    "print(\"OpenCV version\", cv2.__version__)\n",
    "\n",
    "# Checking the Numpy version\n",
    "print(\"Numpy version\", np.__version__)\n"
   ]
  },
  {
   "cell_type": "markdown",
   "metadata": {},
   "source": [
    "### 2.  "
   ]
  },
  {
   "cell_type": "code",
   "execution_count": null,
   "metadata": {
    "collapsed": true
   },
   "outputs": [],
   "source": [
    "def dino():\n",
    "    # Dino\n",
    "    img1 = cv2.imread('imgs/dinos/viff.003.ppm')\n",
    "    img2 = cv2.imread('imgs/dinos/viff.001.ppm')\n",
    "    pts1, pts2 = features.find_correspondence_points(img1, img2)\n",
    "    points1 = processor.cart2hom(pts1)\n",
    "    points2 = processor.cart2hom(pts2)\n",
    "\n",
    "    fig, ax = plt.subplots(1, 2)\n",
    "    ax[0].autoscale_view('tight')\n",
    "    ax[0].imshow(cv2.cvtColor(img1, cv2.COLOR_BGR2RGB))\n",
    "    ax[0].plot(points1[0], points1[1], 'r.')\n",
    "    ax[1].autoscale_view('tight')\n",
    "    ax[1].imshow(cv2.cvtColor(img2, cv2.COLOR_BGR2RGB))\n",
    "    ax[1].plot(points2[0], points2[1], 'r.')\n",
    "    fig.show()\n",
    "\n",
    "    height, width, ch = img1.shape\n",
    "    intrinsic = np.array([  # for dino\n",
    "        [2360, 0, width / 2],\n",
    "        [0, 2360, height / 2],\n",
    "        [0, 0, 1]])\n",
    "\n",
    "    return points1, points2, intrinsic"
   ]
  },
  {
   "cell_type": "code",
   "execution_count": null,
   "metadata": {
    "collapsed": true
   },
   "outputs": [],
   "source": [
    "points1, points2, intrinsic = dino()\n",
    "\n",
    "# Calculate essential matrix with 2d points.\n",
    "# Result will be up to a scale\n",
    "# First, normalize points\n",
    "points1n = np.dot(np.linalg.inv(intrinsic), points1)\n",
    "points2n = np.dot(np.linalg.inv(intrinsic), points2)\n",
    "E = structure.compute_essential_normalized(points1n, points2n)\n",
    "print('Computed essential matrix:', (-E / E[0][1]))\n",
    "\n",
    "# Given we are at camera 1, calculate the parameters for camera 2\n",
    "# Using the essential matrix returns 4 possible camera paramters\n",
    "P1 = np.array([[1, 0, 0, 0], [0, 1, 0, 0], [0, 0, 1, 0]])\n",
    "P2s = structure.compute_P_from_essential(E)\n",
    "\n",
    "ind = -1\n",
    "for i, P2 in enumerate(P2s):\n",
    "    # Find the correct camera parameters\n",
    "    d1 = structure.reconstruct_one_point(\n",
    "        points1n[:, 0], points2n[:, 0], P1, P2)\n",
    "\n",
    "    # Convert P2 from camera view to world view\n",
    "    P2_homogenous = np.linalg.inv(np.vstack([P2, [0, 0, 0, 1]]))\n",
    "    d2 = np.dot(P2_homogenous[:3, :4], d1)\n",
    "\n",
    "    if d1[2] > 0 and d2[2] > 0:\n",
    "        ind = i\n",
    "\n",
    "P2 = np.linalg.inv(np.vstack([P2s[ind], [0, 0, 0, 1]]))[:3, :4]\n",
    "#tripoints3d = structure.reconstruct_points(points1n, points2n, P1, P2)\n",
    "tripoints3d = structure.linear_triangulation(points1n, points2n, P1, P2)\n",
    "\n",
    "fig = plt.figure()\n",
    "fig.suptitle('3D reconstructed', fontsize=16)\n",
    "ax = fig.gca(projection='3d')\n",
    "ax.plot(tripoints3d[0], tripoints3d[1], tripoints3d[2], 'b.')\n",
    "ax.set_xlabel('x axis')\n",
    "ax.set_ylabel('y axis')\n",
    "ax.set_zlabel('z axis')\n",
    "ax.view_init(elev=135, azim=90)\n",
    "plt.show()"
   ]
  }
 ],
 "metadata": {
  "kernelspec": {
   "display_name": "Python 3",
   "language": "python",
   "name": "python3"
  },
  "language_info": {
   "codemirror_mode": {
    "name": "ipython",
    "version": 3
   },
   "file_extension": ".py",
   "mimetype": "text/x-python",
   "name": "python",
   "nbconvert_exporter": "python",
   "pygments_lexer": "ipython3",
   "version": "3.5.2"
  }
 },
 "nbformat": 4,
 "nbformat_minor": 2
}
