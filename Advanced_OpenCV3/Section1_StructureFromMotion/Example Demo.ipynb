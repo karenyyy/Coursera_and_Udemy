{
 "cells": [
  {
   "cell_type": "code",
   "execution_count": 1,
   "metadata": {
    "collapsed": true
   },
   "outputs": [],
   "source": [
    "from pythreejs import *\n",
    "from IPython.display import display"
   ]
  },
  {
   "cell_type": "code",
   "execution_count": 2,
   "metadata": {},
   "outputs": [],
   "source": [
    "# Materials\n",
    "mat       = Material(color='#ff0000')\n",
    "mat_green = Material(color='#00ff00')\n",
    "mat_blue  = Material(color='#0000ff')"
   ]
  },
  {
   "cell_type": "code",
   "execution_count": 3,
   "metadata": {
    "collapsed": true
   },
   "outputs": [],
   "source": [
    "# Geometries\n",
    "torus = TorusGeometry(radius=12, tube=3, radialSegments=16, tubularSegments=100)\n",
    "sphere = SphereGeometry(radius=12, _flat=True)"
   ]
  },
  {
   "cell_type": "code",
   "execution_count": 4,
   "metadata": {},
   "outputs": [],
   "source": [
    "bufferSphere = SphereGeometry(radius=12, _flat=True)\n",
    "bufferTorus = TorusGeometry(radius=12, tube=3, radialSegments=16, tubularSegments=100)"
   ]
  },
  {
   "cell_type": "code",
   "execution_count": 5,
   "metadata": {},
   "outputs": [
    {
     "data": {
      "application/vnd.jupyter.widget-view+json": {
       "model_id": "10be4334d3e44b6b9cb12e46bcc6a4e5",
       "version_major": 2,
       "version_minor": 0
      },
      "text/plain": [
       "A Jupyter Widget"
      ]
     },
     "metadata": {},
     "output_type": "display_data"
    }
   ],
   "source": [
    "display(sphere)"
   ]
  },
  {
   "cell_type": "code",
   "execution_count": 6,
   "metadata": {},
   "outputs": [
    {
     "data": {
      "text/plain": [
       "['AmbientLight',\n",
       " 'AnaglyphEffect',\n",
       " 'BasicMaterial',\n",
       " 'BoxGeometry',\n",
       " 'Camera',\n",
       " 'CircleGeometry',\n",
       " 'Color',\n",
       " 'Controls',\n",
       " 'CylinderGeometry',\n",
       " 'DataTexture',\n",
       " 'DepthMaterial',\n",
       " 'DirectionalLight',\n",
       " 'Effect',\n",
       " 'FaceGeometry',\n",
       " 'FlyControls',\n",
       " 'Geometry',\n",
       " 'HemisphereLight',\n",
       " 'IcosahedronGeometry',\n",
       " 'ImageTexture',\n",
       " 'IntensityLight',\n",
       " 'LambertMaterial',\n",
       " 'LatheGeometry',\n",
       " 'Light',\n",
       " 'Line',\n",
       " 'LineBasicMaterial',\n",
       " 'LineDashedMaterial',\n",
       " 'Material',\n",
       " 'Mesh',\n",
       " 'NormalMaterial',\n",
       " 'Object3d',\n",
       " 'OctahedronGeometry',\n",
       " 'OrbitControls',\n",
       " 'OrthographicCamera',\n",
       " 'ParametricGeometry',\n",
       " 'ParticleSystemMaterial',\n",
       " 'PerspectiveCamera',\n",
       " 'PhongMaterial',\n",
       " 'Picker',\n",
       " 'PlainBufferGeometry',\n",
       " 'PlainGeometry',\n",
       " 'PlaneGeometry',\n",
       " 'PlotMesh',\n",
       " 'PointLight',\n",
       " 'PolyhedronGeometry',\n",
       " 'Renderer',\n",
       " 'RingGeometry',\n",
       " 'ScaledObject',\n",
       " 'Scene',\n",
       " 'ShaderMaterial',\n",
       " 'SphereGeometry',\n",
       " 'SpotLight',\n",
       " 'Sprite',\n",
       " 'SpriteMaterial',\n",
       " 'SurfaceGeometry',\n",
       " 'SurfaceGrid',\n",
       " 'TetrahedronGeometry',\n",
       " 'TextTexture',\n",
       " 'Texture',\n",
       " 'TorusGeometry',\n",
       " 'TorusKnotGeometry',\n",
       " 'TrackballControls',\n",
       " 'TubeGeometry',\n",
       " '__all__',\n",
       " '__builtins__',\n",
       " '__cached__',\n",
       " '__doc__',\n",
       " '__file__',\n",
       " '__loader__',\n",
       " '__name__',\n",
       " '__package__',\n",
       " '__path__',\n",
       " '__spec__',\n",
       " '__version__',\n",
       " '_jupyter_nbextension_paths',\n",
       " '_package',\n",
       " '_version',\n",
       " 'enums',\n",
       " 'height_texture',\n",
       " 'lights_color',\n",
       " 'lights_gray',\n",
       " 'make_text',\n",
       " 'npm_pkg_name',\n",
       " 'py_pkg_name',\n",
       " 'pythreejs',\n",
       " 'traits_numpy',\n",
       " 'version_info']"
      ]
     },
     "execution_count": 6,
     "metadata": {},
     "output_type": "execute_result"
    }
   ],
   "source": [
    "import pythreejs\n",
    "dir(pythreejs)"
   ]
  },
  {
   "cell_type": "code",
   "execution_count": null,
   "metadata": {
    "collapsed": true
   },
   "outputs": [],
   "source": []
  }
 ],
 "metadata": {
  "kernelspec": {
   "display_name": "Python 3",
   "language": "python",
   "name": "python3"
  },
  "language_info": {
   "codemirror_mode": {
    "name": "ipython",
    "version": 3
   },
   "file_extension": ".py",
   "mimetype": "text/x-python",
   "name": "python",
   "nbconvert_exporter": "python",
   "pygments_lexer": "ipython3",
   "version": "3.5.2"
  }
 },
 "nbformat": 4,
 "nbformat_minor": 2
}
