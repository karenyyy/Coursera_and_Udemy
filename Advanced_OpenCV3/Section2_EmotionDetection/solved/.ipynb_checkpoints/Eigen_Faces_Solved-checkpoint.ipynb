{
 "cells": [
  {
   "cell_type": "markdown",
   "metadata": {},
   "source": [
    "### 1. Testing the development environment"
   ]
  },
  {
   "cell_type": "code",
   "execution_count": 1,
   "metadata": {},
   "outputs": [
    {
     "name": "stdout",
     "output_type": "stream",
     "text": [
      "OpenCV version 3.1.0\n",
      "Numpy version 1.13.1\n",
      "Dlib version 19.6.1\n"
     ]
    }
   ],
   "source": [
    "import cv2\n",
    "import numpy as np\n",
    "import dlib\n",
    "\n",
    "# Checking the OpenCV version\n",
    "print(\"OpenCV version\", cv2.__version__)\n",
    "\n",
    "# Checking the Numpy version\n",
    "print(\"Numpy version\", np.__version__)\n",
    "\n",
    "# Checking the dlib version\n",
    "print(\"Dlib version\", dlib.__version__)\n",
    "\n",
    "\n"
   ]
  },
  {
   "cell_type": "markdown",
   "metadata": {},
   "source": [
    "### 2. Extracting Principal Components from an Image"
   ]
  },
  {
   "cell_type": "markdown",
   "metadata": {},
   "source": [
    "We will be using the Yale Image dataset for this example\n",
    "\n",
    "Link to the dataset : http://vismod.media.mit.edu/vismod/classes/mas622-00/datasets/"
   ]
  },
  {
   "cell_type": "code",
   "execution_count": 27,
   "metadata": {
    "collapsed": true
   },
   "outputs": [],
   "source": [
    "# Rendering PCA images\n",
    "\n",
    "from PIL import Image\n",
    "from numpy import *\n",
    "\n",
    "def pca(X):\n",
    "  # Principal Component Analysis\n",
    "  # input: X, matrix with training data as flattened arrays in rows\n",
    "  # return: projection matrix (with important dimensions first),\n",
    "  # variance and mean\n",
    "\n",
    "  #get dimensions\n",
    "  num_data,dim = X.shape\n",
    "\n",
    "  print(num_data, dim)\n",
    "\n",
    "  #center data\n",
    "  mean_X = X.mean(axis=0)\n",
    "\n",
    "  print(mean_X.shape)\n",
    "    \n",
    "  #X = list(X)\n",
    "  for i in range(num_data):\n",
    "      X[i] -= mean_X\n",
    "\n",
    "  if dim>100:\n",
    "      print('PCA - compact trick used')\n",
    "      M = dot(X,X.T) #covariance matrix\n",
    "      e,EV = linalg.eigh(M) #eigenvalues and eigenvectors\n",
    "      tmp = dot(X.T,EV).T #this is the compact trick\n",
    "      V = tmp[::-1] #reverse since last eigenvectors are the ones we want\n",
    "      S = sqrt(e)[::-1] #reverse since eigenvalues are in increasing order\n",
    "  else:\n",
    "      print('PCA - SVD used')\n",
    "      U,S,V = linalg.svd(X)\n",
    "      V = V[:num_data] #only makes sense to return the first num_data\n",
    "\n",
    "  #return the projection matrix, the variance and the mean\n",
    "  return V,S,mean_X"
   ]
  },
  {
   "cell_type": "code",
   "execution_count": 29,
   "metadata": {},
   "outputs": [
    {
     "name": "stdout",
     "output_type": "stream",
     "text": [
      "11 77760\n",
      "(77760,)\n"
     ]
    },
    {
     "ename": "TypeError",
     "evalue": "Cannot cast ufunc subtract output from dtype('float64') to dtype('uint8') with casting rule 'same_kind'",
     "output_type": "error",
     "traceback": [
      "\u001b[0;31m---------------------------------------------------------------------------\u001b[0m",
      "\u001b[0;31mTypeError\u001b[0m                                 Traceback (most recent call last)",
      "\u001b[0;32m<ipython-input-29-c44f00800fa7>\u001b[0m in \u001b[0;36m<module>\u001b[0;34m()\u001b[0m\n\u001b[1;32m     15\u001b[0m \u001b[0;34m\u001b[0m\u001b[0m\n\u001b[1;32m     16\u001b[0m \u001b[0;31m# Calculating the PCA of the above data\u001b[0m\u001b[0;34m\u001b[0m\u001b[0;34m\u001b[0m\u001b[0m\n\u001b[0;32m---> 17\u001b[0;31m \u001b[0mv\u001b[0m\u001b[0;34m,\u001b[0m\u001b[0ms\u001b[0m\u001b[0;34m,\u001b[0m\u001b[0mm\u001b[0m \u001b[0;34m=\u001b[0m \u001b[0mpca\u001b[0m\u001b[0;34m(\u001b[0m\u001b[0mX\u001b[0m\u001b[0;34m)\u001b[0m\u001b[0;34m\u001b[0m\u001b[0m\n\u001b[0m\u001b[1;32m     18\u001b[0m \u001b[0;34m\u001b[0m\u001b[0m\n",
      "\u001b[0;32m<ipython-input-27-8500170cb362>\u001b[0m in \u001b[0;36mpca\u001b[0;34m(X)\u001b[0m\n\u001b[1;32m     22\u001b[0m   \u001b[0;31m#X = list(X)\u001b[0m\u001b[0;34m\u001b[0m\u001b[0;34m\u001b[0m\u001b[0m\n\u001b[1;32m     23\u001b[0m   \u001b[0;32mfor\u001b[0m \u001b[0mi\u001b[0m \u001b[0;32min\u001b[0m \u001b[0mrange\u001b[0m\u001b[0;34m(\u001b[0m\u001b[0mnum_data\u001b[0m\u001b[0;34m)\u001b[0m\u001b[0;34m:\u001b[0m\u001b[0;34m\u001b[0m\u001b[0m\n\u001b[0;32m---> 24\u001b[0;31m       \u001b[0mX\u001b[0m\u001b[0;34m[\u001b[0m\u001b[0mi\u001b[0m\u001b[0;34m]\u001b[0m \u001b[0;34m-=\u001b[0m \u001b[0mmean_X\u001b[0m\u001b[0;34m\u001b[0m\u001b[0m\n\u001b[0m\u001b[1;32m     25\u001b[0m \u001b[0;34m\u001b[0m\u001b[0m\n\u001b[1;32m     26\u001b[0m   \u001b[0;32mif\u001b[0m \u001b[0mdim\u001b[0m\u001b[0;34m>\u001b[0m\u001b[0;36m100\u001b[0m\u001b[0;34m:\u001b[0m\u001b[0;34m\u001b[0m\u001b[0m\n",
      "\u001b[0;31mTypeError\u001b[0m: Cannot cast ufunc subtract output from dtype('float64') to dtype('uint8') with casting rule 'same_kind'"
     ]
    }
   ],
   "source": [
    "# Small Client Program for computing PCA\n",
    "import glob\n",
    "import os\n",
    "import numpy as np\n",
    "import matplotlib.image as mpimg\n",
    "\n",
    "INPUT_IMG_DIR = os.path.join(\"..\",\"..\",\"datasets\",\"yalefaces\",\"yalefaces\", \"subject01*\")\n",
    "\n",
    "X = []\n",
    "for image in glob.glob(INPUT_IMG_DIR):\n",
    "    im = mpimg.imread(image)\n",
    "    X.append(im.flatten())\n",
    "\n",
    "X = np.array(X)\n",
    "\n",
    "# Calculating the PCA of the above data\n",
    "v,s,m = pca(X)\n",
    "\n"
   ]
  },
  {
   "cell_type": "markdown",
   "metadata": {},
   "source": [
    "### 2. Eigen Face"
   ]
  },
  {
   "cell_type": "code",
   "execution_count": 3,
   "metadata": {
    "collapsed": true
   },
   "outputs": [],
   "source": [
    "class PCA:\n",
    "    pass"
   ]
  },
  {
   "cell_type": "code",
   "execution_count": 4,
   "metadata": {
    "collapsed": true
   },
   "outputs": [],
   "source": [
    "import os\n",
    "import glob\n",
    "import numpy as np\n",
    "from PIL import Image\n",
    "import skimage.transform\n",
    "import matplotlib.pyplot as plt\n",
    "import matplotlib.image as mpimg\n",
    "\n",
    "%matplotlib inline\n",
    "\n",
    "INPUT_IMG_DIR = os.path.join(\"..\",\"..\",\"datasets\",\"yalefaces\",\"yalefaces\", \"subject01*\")\n",
    "SIZE = 100 * 100    # w x h \n",
    "\n",
    "class EigenFace():\n",
    "    \n",
    "    def __init__(self, img_path,size=SIZE):\n",
    "        self.image_bin = {}\n",
    "        image_lst = [ image for image in glob.glob(img_path)]\n",
    "        for image in image_lst:\n",
    "            im = mpimg.imread(image)\n",
    "            size = im.shape[0]*im.shape[1]\n",
    "            \n",
    "            # finding the downsample factor for the image\n",
    "            d_sample_factor = size / SIZE\n",
    "            im = skimage.transform.pyramid_reduce(im, downscale=d_sample_factor)\n",
    "            \n",
    "            # we will be storing the image and its pixel map in gray scale as a dictionary\n",
    "            if len(im.shape) > 2:\n",
    "                self.image_bin[image] = cv2.cvtColor(im,cv2.COLOR_RGB2GRAY)\n",
    "            else:\n",
    "                self.image_bin[image] = im\n",
    "                \n",
    "            # calculating the vector representation of the Images\n",
    "        self.vector_matrix = self.get_vector()\n",
    "            \n",
    "            \n",
    "                \n",
    "    def get_vector(self):\n",
    "        \"\"\"\n",
    "        Representing an Image Sample in the vector form and concatenating together\n",
    "        \"\"\"\n",
    "        \n",
    "        for idx, (_, image) in enumerate(self.image_bin.items()):\n",
    "            if idx == 0:\n",
    "                 vector_2d = self.image_bin[list(self.image_bin.keys())[0]].flatten()\n",
    "            else:\n",
    "                vector = image.flatten()\n",
    "                vector_2d = np.concatenate((vector_2d.T, vector.T), axis=0)\n",
    "        vector_2d = np.reshape(vector_2d, (len(self.image_bin), vector.size))\n",
    "        return vector_2d\n",
    "    \n",
    "    \n",
    "    def get_pca(self):\n",
    "        \"\"\"\n",
    "        Getting the PCA of images\n",
    "        \"\"\"\n",
    "        mean_vector = self.vector_matrix.mean(axis=0)\n",
    "        for idx in range(self.vector_matrix.shape[0]):\n",
    "            self.vector_matrix[idx] -= mean_vector\n",
    "            \n",
    "        u, s, eigen_vector = np.linalg.svd(np.dot(self.vector_matrix.T, self.vector_matrix))\n",
    "        standard_deviation = s**2/float(len(s))\n",
    "        variance_proportion = standard_deviation / np.sum(standard_deviation)\n",
    "        pca = PCA()\n",
    "        pca.s = s\n",
    "        pca.eigen_vector = eigen_vector[:self.vector_matrix.shape[0]]\n",
    "        pca.variance_proportion = variance_proportion\n",
    "        pca.mean_vector = mean_vector\n",
    "        return pca"
   ]
  },
  {
   "cell_type": "markdown",
   "metadata": {},
   "source": [
    "### Principal Component Analysis"
   ]
  },
  {
   "cell_type": "code",
   "execution_count": 5,
   "metadata": {
    "collapsed": true
   },
   "outputs": [],
   "source": [
    "eigen_face = EigenFace(INPUT_IMG_DIR)"
   ]
  },
  {
   "cell_type": "code",
   "execution_count": 6,
   "metadata": {
    "collapsed": true
   },
   "outputs": [],
   "source": [
    "pca = eigen_face.get_pca()"
   ]
  },
  {
   "cell_type": "code",
   "execution_count": 14,
   "metadata": {},
   "outputs": [
    {
     "name": "stdout",
     "output_type": "stream",
     "text": [
      "(11, 1344)\n"
     ]
    }
   ],
   "source": [
    "print(pca.eigen_vector.shape)"
   ]
  },
  {
   "cell_type": "code",
   "execution_count": null,
   "metadata": {
    "collapsed": true
   },
   "outputs": [],
   "source": []
  }
 ],
 "metadata": {
  "kernelspec": {
   "display_name": "Python 3",
   "language": "python",
   "name": "python3"
  },
  "language_info": {
   "codemirror_mode": {
    "name": "ipython",
    "version": 3
   },
   "file_extension": ".py",
   "mimetype": "text/x-python",
   "name": "python",
   "nbconvert_exporter": "python",
   "pygments_lexer": "ipython3",
   "version": "3.5.2"
  }
 },
 "nbformat": 4,
 "nbformat_minor": 2
}
