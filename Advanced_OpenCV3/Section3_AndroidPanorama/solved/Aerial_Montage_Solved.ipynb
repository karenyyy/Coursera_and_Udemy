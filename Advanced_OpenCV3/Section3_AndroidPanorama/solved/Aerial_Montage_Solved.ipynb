{
 "cells": [
  {
   "cell_type": "markdown",
   "metadata": {
    "collapsed": true
   },
   "source": [
    "### Testing the Environment"
   ]
  },
  {
   "cell_type": "code",
   "execution_count": 1,
   "metadata": {},
   "outputs": [
    {
     "name": "stdout",
     "output_type": "stream",
     "text": [
      "OpenCV version 3.2.0-dev\n",
      "Numpy version 1.13.1\n",
      "Tensorflow version 1.3.0\n"
     ]
    }
   ],
   "source": [
    "# Testing the environment\n",
    "import cv2\n",
    "import numpy as np\n",
    "import tensorflow as tf\n",
    "\n",
    "print(\"OpenCV version\", cv2.__version__)\n",
    "\n",
    "print(\"Numpy version\", np.__version__)\n",
    "\n",
    "print(\"Tensorflow version\", tf.__version__)\n"
   ]
  },
  {
   "cell_type": "markdown",
   "metadata": {},
   "source": [
    "#### Adobe Panorama Dataset\n",
    "\n",
    "https://sourceforge.net/adobe/adobedatasets/panoramas/home/Home/"
   ]
  },
  {
   "cell_type": "markdown",
   "metadata": {},
   "source": [
    "### Matching"
   ]
  },
  {
   "cell_type": "code",
   "execution_count": 2,
   "metadata": {
    "collapsed": true
   },
   "outputs": [],
   "source": [
    "import cv2\n",
    "import numpy as np \n",
    "\n",
    "class matchers:\n",
    "\tdef __init__(self):\n",
    "\t\tself.surf = cv2.xfeatures2d.SURF_create()\n",
    "\t\tFLANN_INDEX_KDTREE = 0\n",
    "\t\tindex_params = dict(algorithm=0, trees=5)\n",
    "\t\tsearch_params = dict(checks=50)\n",
    "\t\tself.flann = cv2.FlannBasedMatcher(index_params, search_params)\n",
    "\n",
    "\tdef match(self, i1, i2, direction=None):\n",
    "\t\timageSet1 = self.getSURFFeatures(i1)\n",
    "\t\timageSet2 = self.getSURFFeatures(i2)\n",
    "\t\tprint(\"Direction : \", direction)\n",
    "\t\tmatches = self.flann.knnMatch(\n",
    "\t\t\timageSet2['des'],\n",
    "\t\t\timageSet1['des'],\n",
    "\t\t\tk=2\n",
    "\t\t\t)\n",
    "\t\tgood = []\n",
    "\t\tfor i , (m, n) in enumerate(matches):\n",
    "\t\t\tif m.distance < 0.7*n.distance:\n",
    "\t\t\t\tgood.append((m.trainIdx, m.queryIdx))\n",
    "\n",
    "\t\tif len(good) > 4:\n",
    "\t\t\tpointsCurrent = imageSet2['kp']\n",
    "\t\t\tpointsPrevious = imageSet1['kp']\n",
    "\n",
    "\t\t\tmatchedPointsCurrent = np.float32(\n",
    "\t\t\t\t[pointsCurrent[i].pt for (__, i) in good]\n",
    "\t\t\t)\n",
    "\t\t\tmatchedPointsPrev = np.float32(\n",
    "\t\t\t\t[pointsPrevious[i].pt for (i, __) in good]\n",
    "\t\t\t\t)\n",
    "\n",
    "\t\t\tH, s = cv2.findHomography(matchedPointsCurrent, matchedPointsPrev, cv2.RANSAC, 4)\n",
    "\t\t\treturn H\n",
    "\t\treturn None\n",
    "\n",
    "\tdef getSURFFeatures(self, im):\n",
    "\t\tgray = cv2.cvtColor(im, cv2.COLOR_BGR2GRAY)\n",
    "\t\tkp, des = self.surf.detectAndCompute(gray, None)\n",
    "\t\treturn {'kp':kp, 'des':des}\n"
   ]
  },
  {
   "cell_type": "markdown",
   "metadata": {},
   "source": [
    "### Stitching"
   ]
  },
  {
   "cell_type": "code",
   "execution_count": 1,
   "metadata": {},
   "outputs": [
    {
     "name": "stdout",
     "output_type": "stream",
     "text": [
      "['../images/Panorama/goldengate/goldengate-00.png', '../images/Panorama/goldengate/goldengate-01.png', '../images/Panorama/goldengate/goldengate-02.png', '../images/Panorama/goldengate/goldengate-03.png', '../images/Panorama/goldengate/goldengate-04.png', '../images/Panorama/goldengate/goldengate-05.png']\n"
     ]
    },
    {
     "ename": "NameError",
     "evalue": "name 'cv2' is not defined",
     "output_type": "error",
     "traceback": [
      "\u001b[0;31m---------------------------------------------------------------------------\u001b[0m",
      "\u001b[0;31mNameError\u001b[0m                                 Traceback (most recent call last)",
      "\u001b[0;32m<ipython-input-1-3fbfe5235021>\u001b[0m in \u001b[0;36m<module>\u001b[0;34m()\u001b[0m\n\u001b[1;32m    116\u001b[0m \u001b[0mIMG_PATH\u001b[0m \u001b[0;34m=\u001b[0m \u001b[0mos\u001b[0m\u001b[0;34m.\u001b[0m\u001b[0mpath\u001b[0m\u001b[0;34m.\u001b[0m\u001b[0mjoin\u001b[0m\u001b[0;34m(\u001b[0m\u001b[0;34m\"..\"\u001b[0m\u001b[0;34m,\u001b[0m\u001b[0;34m\"images\"\u001b[0m\u001b[0;34m,\u001b[0m\u001b[0;34m\"Panorama\"\u001b[0m\u001b[0;34m,\u001b[0m\u001b[0;34m\"goldengate\"\u001b[0m\u001b[0;34m,\u001b[0m\u001b[0;34m\"data.txt\"\u001b[0m\u001b[0;34m)\u001b[0m\u001b[0;34m\u001b[0m\u001b[0m\n\u001b[1;32m    117\u001b[0m \u001b[0;34m\u001b[0m\u001b[0m\n\u001b[0;32m--> 118\u001b[0;31m \u001b[0ms\u001b[0m \u001b[0;34m=\u001b[0m \u001b[0mStitch\u001b[0m\u001b[0;34m(\u001b[0m\u001b[0mIMG_PATH\u001b[0m\u001b[0;34m)\u001b[0m\u001b[0;34m\u001b[0m\u001b[0m\n\u001b[0m\u001b[1;32m    119\u001b[0m \u001b[0ms\u001b[0m\u001b[0;34m.\u001b[0m\u001b[0mleftshift\u001b[0m\u001b[0;34m(\u001b[0m\u001b[0;34m)\u001b[0m\u001b[0;34m\u001b[0m\u001b[0m\n\u001b[1;32m    120\u001b[0m \u001b[0ms\u001b[0m\u001b[0;34m.\u001b[0m\u001b[0mrightshift\u001b[0m\u001b[0;34m(\u001b[0m\u001b[0;34m)\u001b[0m\u001b[0;34m\u001b[0m\u001b[0m\n",
      "\u001b[0;32m<ipython-input-1-3fbfe5235021>\u001b[0m in \u001b[0;36m__init__\u001b[0;34m(self, args)\u001b[0m\n\u001b[1;32m     15\u001b[0m \u001b[0;34m\u001b[0m\u001b[0m\n\u001b[1;32m     16\u001b[0m                 \u001b[0mprint\u001b[0m\u001b[0;34m(\u001b[0m\u001b[0mfilenames\u001b[0m\u001b[0;34m)\u001b[0m\u001b[0;34m\u001b[0m\u001b[0m\n\u001b[0;32m---> 17\u001b[0;31m                 \u001b[0mself\u001b[0m\u001b[0;34m.\u001b[0m\u001b[0mimages\u001b[0m \u001b[0;34m=\u001b[0m \u001b[0;34m[\u001b[0m\u001b[0mcv2\u001b[0m\u001b[0;34m.\u001b[0m\u001b[0mresize\u001b[0m\u001b[0;34m(\u001b[0m\u001b[0mcv2\u001b[0m\u001b[0;34m.\u001b[0m\u001b[0mimread\u001b[0m\u001b[0;34m(\u001b[0m\u001b[0meach\u001b[0m\u001b[0;34m)\u001b[0m\u001b[0;34m,\u001b[0m\u001b[0;34m(\u001b[0m\u001b[0;36m480\u001b[0m\u001b[0;34m,\u001b[0m \u001b[0;36m320\u001b[0m\u001b[0;34m)\u001b[0m\u001b[0;34m)\u001b[0m \u001b[0;32mfor\u001b[0m \u001b[0meach\u001b[0m \u001b[0;32min\u001b[0m \u001b[0mfilenames\u001b[0m\u001b[0;34m]\u001b[0m\u001b[0;34m\u001b[0m\u001b[0m\n\u001b[0m\u001b[1;32m     18\u001b[0m                 \u001b[0mprint\u001b[0m\u001b[0;34m(\u001b[0m\u001b[0;34m[\u001b[0m\u001b[0mx\u001b[0m\u001b[0;34m.\u001b[0m\u001b[0mshape\u001b[0m \u001b[0;32mfor\u001b[0m \u001b[0mx\u001b[0m \u001b[0;32min\u001b[0m \u001b[0mself\u001b[0m\u001b[0;34m.\u001b[0m\u001b[0mimages\u001b[0m\u001b[0;34m]\u001b[0m\u001b[0;34m)\u001b[0m\u001b[0;34m\u001b[0m\u001b[0m\n\u001b[1;32m     19\u001b[0m                 \u001b[0mself\u001b[0m\u001b[0;34m.\u001b[0m\u001b[0mcount\u001b[0m \u001b[0;34m=\u001b[0m \u001b[0mlen\u001b[0m\u001b[0;34m(\u001b[0m\u001b[0mself\u001b[0m\u001b[0;34m.\u001b[0m\u001b[0mimages\u001b[0m\u001b[0;34m)\u001b[0m\u001b[0;34m\u001b[0m\u001b[0m\n",
      "\u001b[0;32m<ipython-input-1-3fbfe5235021>\u001b[0m in \u001b[0;36m<listcomp>\u001b[0;34m(.0)\u001b[0m\n\u001b[1;32m     15\u001b[0m \u001b[0;34m\u001b[0m\u001b[0m\n\u001b[1;32m     16\u001b[0m                 \u001b[0mprint\u001b[0m\u001b[0;34m(\u001b[0m\u001b[0mfilenames\u001b[0m\u001b[0;34m)\u001b[0m\u001b[0;34m\u001b[0m\u001b[0m\n\u001b[0;32m---> 17\u001b[0;31m                 \u001b[0mself\u001b[0m\u001b[0;34m.\u001b[0m\u001b[0mimages\u001b[0m \u001b[0;34m=\u001b[0m \u001b[0;34m[\u001b[0m\u001b[0mcv2\u001b[0m\u001b[0;34m.\u001b[0m\u001b[0mresize\u001b[0m\u001b[0;34m(\u001b[0m\u001b[0mcv2\u001b[0m\u001b[0;34m.\u001b[0m\u001b[0mimread\u001b[0m\u001b[0;34m(\u001b[0m\u001b[0meach\u001b[0m\u001b[0;34m)\u001b[0m\u001b[0;34m,\u001b[0m\u001b[0;34m(\u001b[0m\u001b[0;36m480\u001b[0m\u001b[0;34m,\u001b[0m \u001b[0;36m320\u001b[0m\u001b[0;34m)\u001b[0m\u001b[0;34m)\u001b[0m \u001b[0;32mfor\u001b[0m \u001b[0meach\u001b[0m \u001b[0;32min\u001b[0m \u001b[0mfilenames\u001b[0m\u001b[0;34m]\u001b[0m\u001b[0;34m\u001b[0m\u001b[0m\n\u001b[0m\u001b[1;32m     18\u001b[0m                 \u001b[0mprint\u001b[0m\u001b[0;34m(\u001b[0m\u001b[0;34m[\u001b[0m\u001b[0mx\u001b[0m\u001b[0;34m.\u001b[0m\u001b[0mshape\u001b[0m \u001b[0;32mfor\u001b[0m \u001b[0mx\u001b[0m \u001b[0;32min\u001b[0m \u001b[0mself\u001b[0m\u001b[0;34m.\u001b[0m\u001b[0mimages\u001b[0m\u001b[0;34m]\u001b[0m\u001b[0;34m)\u001b[0m\u001b[0;34m\u001b[0m\u001b[0m\n\u001b[1;32m     19\u001b[0m                 \u001b[0mself\u001b[0m\u001b[0;34m.\u001b[0m\u001b[0mcount\u001b[0m \u001b[0;34m=\u001b[0m \u001b[0mlen\u001b[0m\u001b[0;34m(\u001b[0m\u001b[0mself\u001b[0m\u001b[0;34m.\u001b[0m\u001b[0mimages\u001b[0m\u001b[0;34m)\u001b[0m\u001b[0;34m\u001b[0m\u001b[0m\n",
      "\u001b[0;31mNameError\u001b[0m: name 'cv2' is not defined"
     ]
    }
   ],
   "source": [
    "import os\n",
    "import time\n",
    "import matplotlib.pyplot as plt\n",
    "\n",
    "%matplotlib inline\n",
    "\n",
    "class Stitch:\n",
    "\tdef __init__(self, args):\n",
    "\t\tself.path = args\n",
    "\t\tfp = open(self.path, 'r')\n",
    "\t\t\n",
    "\t\t#filenames = [ os.path.join(\"data\",line.split()[2] + \".jpg\") for line in  fp.readlines()][:6]\n",
    "\t\t\n",
    "\t\tfilenames = [os.path.join(\"..\",\"images\",\"Panorama\",each.strip()) for each in  fp.readlines()]\n",
    "\n",
    "\t\tprint(filenames)\n",
    "\t\tself.images = [cv2.resize(cv2.imread(each),(480, 320)) for each in filenames]\n",
    "\t\tprint([x.shape for x in self.images])\n",
    "\t\tself.count = len(self.images)\n",
    "\t\tself.left_list, self.right_list, self.center_im = [], [],None\n",
    "\t\tself.matcher_obj = matchers()\n",
    "\t\tself.prepare_lists()\n",
    "\n",
    "\tdef prepare_lists(self):\n",
    "\t\t\n",
    "\t\tprint(\"Number of images : %d\"%self.count)\n",
    "\t\tself.centerIdx = int(self.count/2) \n",
    "\t\t\n",
    "\t\tprint(\"Center index image : {0}\".format(self.centerIdx))\n",
    "\t\tself.center_im = self.images[self.centerIdx]\n",
    "\t\tfor i in range(self.count):\n",
    "\t\t\tif(i<=self.centerIdx):\n",
    "\t\t\t\tself.left_list.append(self.images[i])\n",
    "\t\t\telse:\n",
    "\t\t\t\tself.right_list.append(self.images[i])\n",
    "\t\tprint(\"Image lists prepared\")\n",
    "\n",
    "\tdef leftshift(self):\n",
    "\t\ta = self.left_list[0]\n",
    "\t\tfor b in self.left_list[1:]:\n",
    "\t\t\tH = self.matcher_obj.match(a, b, 'left')\n",
    "\t\t\tprint(\"Homography is : \", H)\n",
    "\t\t\txh = np.linalg.inv(H)\n",
    "\t\t\tprint(\"Inverse Homography :\", xh)\n",
    "\t\t\tds = np.dot(xh, np.array([a.shape[1], a.shape[0], 1]));\n",
    "\t\t\tds = ds/ds[-1]\n",
    "\t\t\tprint(\"final ds=>\", ds)\n",
    "\t\t\tf1 = np.dot(xh, np.array([0,0,1]))\n",
    "\t\t\tf1 = f1/f1[-1]\n",
    "\t\t\txh[0][-1] += abs(f1[0])\n",
    "\t\t\txh[1][-1] += abs(f1[1])\n",
    "\t\t\tds = np.dot(xh, np.array([a.shape[1], a.shape[0], 1]))\n",
    "\t\t\toffsety = abs(int(f1[1]))\n",
    "\t\t\toffsetx = abs(int(f1[0]))\n",
    "\t\t\tdsize = (int(ds[0])+offsetx, int(ds[1]) + offsety)\n",
    "\t\t\tprint(\"image dsize =>\", dsize)\n",
    "\t\t\ttmp = cv2.warpPerspective(a, xh, dsize)\n",
    "\t\t\ttmp[offsety:b.shape[0]+offsety, offsetx:b.shape[1]+offsetx] = b\n",
    "\t\t\ta = tmp\n",
    "\n",
    "\t\tself.leftImage = tmp\n",
    "\n",
    "\t\t\n",
    "\tdef rightshift(self):\n",
    "\t\tfor each in self.right_list:\n",
    "\t\t\tH = self.matcher_obj.match(self.leftImage, each, 'right')\n",
    "\t\t\tprint(\"Homography :\", H)\n",
    "\t\t\ttxyz = np.dot(H, np.array([each.shape[1], each.shape[0], 1]))\n",
    "\t\t\ttxyz = txyz/txyz[-1]\n",
    "\t\t\tdsize = (int(txyz[0])+self.leftImage.shape[1], int(txyz[1])+self.leftImage.shape[0])\n",
    "\t\t\ttmp = cv2.warpPerspective(each, H, dsize)\n",
    "\t\t\ttmp = self.mix_and_match(self.leftImage, tmp)\n",
    "\t\t\tprint(\"tmp shape\",tmp.shape)\n",
    "\t\t\tprint(\"self.leftimage shape=\", self.leftImage.shape)\n",
    "\t\t\tself.leftImage = tmp\n",
    "\t\t\n",
    "\n",
    "\n",
    "\tdef mix_and_match(self, leftImage, warpedImage):\n",
    "\t\ti1y, i1x = leftImage.shape[:2]\n",
    "\t\ti2y, i2x = warpedImage.shape[:2]\n",
    "\t\tprint(leftImage[-1,-1])\n",
    "\n",
    "\t\tt = time.time()\n",
    "\t\tblack_l = np.where(leftImage == np.array([0,0,0]))\n",
    "\t\tblack_wi = np.where(warpedImage == np.array([0,0,0]))\n",
    "\t\tprint(time.time() - t)\n",
    "\t\tprint(black_l[-1])\n",
    "\n",
    "\t\tfor i in range(0, i1x):\n",
    "\t\t\tfor j in range(0, i1y):\n",
    "\t\t\t\ttry:\n",
    "\t\t\t\t\tif(np.array_equal(leftImage[j,i],np.array([0,0,0])) and  np.array_equal(warpedImage[j,i],np.array([0,0,0]))):\n",
    "\t\t\t\t\t\t# print \"BLACK\"\n",
    "\t\t\t\t\t\t# instead of just putting it with black, \n",
    "\t\t\t\t\t\t# take average of all nearby values and avg it.\n",
    "\t\t\t\t\t\twarpedImage[j,i] = [0, 0, 0]\n",
    "\t\t\t\t\telse:\n",
    "\t\t\t\t\t\tif(np.array_equal(warpedImage[j,i],[0,0,0])):\n",
    "\t\t\t\t\t\t\t# print \"PIXEL\"\n",
    "\t\t\t\t\t\t\twarpedImage[j,i] = leftImage[j,i]\n",
    "\t\t\t\t\t\telse:\n",
    "\t\t\t\t\t\t\tif not np.array_equal(leftImage[j,i], [0,0,0]):\n",
    "\t\t\t\t\t\t\t\tbw, gw, rw = warpedImage[j,i]\n",
    "\t\t\t\t\t\t\t\tbl,gl,rl = leftImage[j,i]\n",
    "\t\t\t\t\t\t\t\t# b = (bl+bw)/2\n",
    "\t\t\t\t\t\t\t\t# g = (gl+gw)/2\n",
    "\t\t\t\t\t\t\t\t# r = (rl+rw)/2\n",
    "\t\t\t\t\t\t\t\twarpedImage[j, i] = [bl,gl,rl]\n",
    "\t\t\t\texcept:\n",
    "\t\t\t\t\tpass\n",
    "\t\t# cv2.imshow(\"waRPED mix\", warpedImage)\n",
    "\t\t# cv2.waitKey()\n",
    "\t\treturn warpedImage\n",
    "    \n",
    "IMG_PATH = os.path.join(\"..\",\"images\",\"Panorama\",\"goldengate\",\"data.txt\")\n",
    "\n",
    "s = Stitch(IMG_PATH)\n",
    "s.leftshift()\n",
    "s.rightshift()\n",
    "print(\"done\")\n",
    "\n",
    "fig = plt.figure(\"Panorama\", (15,15))\n",
    "\n",
    "out_img = s.leftImage\n",
    "\n",
    "out_img = out_img[0:480,200:2000,:]\n",
    "plt.imshow(out_img)\n",
    "\n",
    "plt.show()\n",
    "\n"
   ]
  },
  {
   "cell_type": "code",
   "execution_count": null,
   "metadata": {
    "collapsed": true
   },
   "outputs": [],
   "source": []
  },
  {
   "cell_type": "code",
   "execution_count": null,
   "metadata": {
    "collapsed": true
   },
   "outputs": [],
   "source": []
  }
 ],
 "metadata": {
  "kernelspec": {
   "display_name": "Python 3",
   "language": "python",
   "name": "python3"
  },
  "language_info": {
   "codemirror_mode": {
    "name": "ipython",
    "version": 3
   },
   "file_extension": ".py",
   "mimetype": "text/x-python",
   "name": "python",
   "nbconvert_exporter": "python",
   "pygments_lexer": "ipython3",
   "version": "3.6.1"
  }
 },
 "nbformat": 4,
 "nbformat_minor": 2
}
