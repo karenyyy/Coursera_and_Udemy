{
 "cells": [
  {
   "cell_type": "markdown",
   "metadata": {},
   "source": [
    "## Week 1\n",
    "\n",
    "[Geoffrey Hinton interview](https://www.coursera.org/learn/neural-networks-deep-learning/lecture/dcm5r/geoffrey-hinton-interview)"
   ]
  },
  {
   "cell_type": "markdown",
   "metadata": {
    "heading_collapsed": true
   },
   "source": [
    "### Intro to Neural Network"
   ]
  },
  {
   "cell_type": "markdown",
   "metadata": {
    "hidden": true
   },
   "source": [
    "- how to start constructng a NN?\n",
    "   - Eg: Housing Price Prediction: __By stacking together a few of single neurons (simple predictors) __\n",
    "![](../images/1.png)\n",
    "\n",
    "- what you input and what you get for output?\n",
    "![](../images/2.png)\n",
    "\n",
    "- finally we formalize the NN:\n",
    "![](../images/3.png)\n",
    "\n",
    "__Note: every input layer feature is interconnected with every hidden layer feature.__"
   ]
  },
  {
   "cell_type": "markdown",
   "metadata": {
    "heading_collapsed": true
   },
   "source": [
    "### Neural Network Examples"
   ]
  },
  {
   "cell_type": "markdown",
   "metadata": {
    "hidden": true
   },
   "source": [
    "\n",
    "![](../images/4.png)\n",
    "\n",
    "- Supervised Learning\n",
    "\n",
    "![](../images/5.png)\n",
    "\n",
    "- Performance (highly dependent on the scale of data)\n",
    "\n",
    "![](../images/6.png)\n",
    "\n",
    "   -  __Eg: Algorithmic innovation to boost performance__\n",
    "   ![](../images/7.png)\n",
    "       - why RELU is better than Sigmoid for Gradient Descent Algorithm?\n",
    "           - ___Sigmoid___: when x converges to neg infty anf pos infty, the slope of the function (gradient) is nearly 0 => gradient vanishing, so learning becomes really slow, or even stopped, because when we implement the gradient descent and gradient is 0, the parameters just change very slowly;\n",
    "           - ___RELU___: the gradient is always equal to 1 for all pos value, so the gradient is much less likely to gradually shrink to 0."
   ]
  }
 ],
 "metadata": {
  "kernelspec": {
   "display_name": "Python 3",
   "language": "python",
   "name": "python3"
  },
  "language_info": {
   "codemirror_mode": {
    "name": "ipython",
    "version": 3
   },
   "file_extension": ".py",
   "mimetype": "text/x-python",
   "name": "python",
   "nbconvert_exporter": "python",
   "pygments_lexer": "ipython3",
   "version": "3.5.2"
  },
  "latex_envs": {
   "LaTeX_envs_menu_present": true,
   "autoclose": false,
   "autocomplete": true,
   "bibliofile": "biblio.bib",
   "cite_by": "apalike",
   "current_citInitial": 1,
   "eqLabelWithNumbers": true,
   "eqNumInitial": 1,
   "hotkeys": {
    "equation": "Ctrl-E",
    "itemize": "Ctrl-I"
   },
   "labels_anchors": false,
   "latex_user_defs": false,
   "report_style_numbering": false,
   "user_envs_cfg": false
  }
 },
 "nbformat": 4,
 "nbformat_minor": 2
}
