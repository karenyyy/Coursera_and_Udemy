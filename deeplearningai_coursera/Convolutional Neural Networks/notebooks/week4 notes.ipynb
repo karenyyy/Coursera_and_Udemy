{
 "cells": [
  {
   "cell_type": "markdown",
   "metadata": {},
   "source": [
    "## Face Recognition"
   ]
  },
  {
   "cell_type": "markdown",
   "metadata": {},
   "source": [
    "### face verification vs. face recognition\n",
    "\n",
    "Verification\n",
    "- Input image, name/ID\n",
    "- Output whether the input image is that of the claimed person\n",
    "\n",
    "Recognition\n",
    "- Has a database of K persons\n",
    "- Get an input image\n",
    "- Output ID if the image is any of the K persons (or 'not recognized')\n",
    "\n",
    "\n",
    "\n"
   ]
  },
  {
   "cell_type": "markdown",
   "metadata": {},
   "source": [
    "### One-shot Learning\n",
    "\n",
    "\n",
    "Learning from one example to recognize the person again\n",
    "\n",
    "### Learning a 'similarity function\n",
    "\n",
    "$$d(img1, img2) = degree \\: of \\: difference \\: between \\: images$$\n",
    "\n",
    "\n",
    "$$If d(img1, im2) \\le x, \\Rightarrow same image$$\n",
    "\n"
   ]
  },
  {
   "cell_type": "markdown",
   "metadata": {},
   "source": [
    "### Siamese Network\n",
    "\n"
   ]
  },
  {
   "cell_type": "code",
   "execution_count": null,
   "metadata": {},
   "outputs": [],
   "source": []
  }
 ],
 "metadata": {
  "kernelspec": {
   "display_name": "Python 3",
   "language": "python",
   "name": "python3"
  },
  "language_info": {
   "codemirror_mode": {
    "name": "ipython",
    "version": 3
   },
   "file_extension": ".py",
   "mimetype": "text/x-python",
   "name": "python",
   "nbconvert_exporter": "python",
   "pygments_lexer": "ipython3",
   "version": "3.5.2"
  },
  "latex_envs": {
   "LaTeX_envs_menu_present": true,
   "autoclose": false,
   "autocomplete": true,
   "bibliofile": "biblio.bib",
   "cite_by": "apalike",
   "current_citInitial": 1,
   "eqLabelWithNumbers": true,
   "eqNumInitial": 1,
   "hotkeys": {
    "equation": "Ctrl-E",
    "itemize": "Ctrl-I"
   },
   "labels_anchors": false,
   "latex_user_defs": false,
   "report_style_numbering": false,
   "user_envs_cfg": false
  }
 },
 "nbformat": 4,
 "nbformat_minor": 2
}
