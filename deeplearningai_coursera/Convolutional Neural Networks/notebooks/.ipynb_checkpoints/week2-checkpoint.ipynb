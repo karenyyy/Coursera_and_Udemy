{
 "cells": [
  {
   "cell_type": "markdown",
   "metadata": {
    "colab_type": "text",
    "id": "05bfEF_iByF-"
   },
   "source": [
    "## Classic Networks\n"
   ]
  },
  {
   "cell_type": "markdown",
   "metadata": {
    "colab_type": "text",
    "id": "5SA1VcmEK2jq"
   },
   "source": [
    "### Lenet"
   ]
  },
  {
   "cell_type": "markdown",
   "metadata": {
    "colab_type": "text",
    "id": "7fH_Q4q_CHII"
   },
   "source": [
    "\n",
    "![](https://raw.githubusercontent.com/karenyyy/Coursera_and_Udemy/master/deeplearningai_coursera/Convolutional%20Neural%20Networks/images/20.png)\n",
    "\n",
    "\n",
    "\n",
    "\n",
    "\n",
    "\n",
    "\n",
    "\n",
    "\n",
    "\n",
    "\n",
    "\n",
    "\n",
    "\n",
    "\n",
    "\n",
    "\n",
    "\n",
    "\n",
    "\n",
    "\n",
    "\n",
    "\n",
    "\n",
    "\n",
    "\n",
    "\n",
    "\n",
    "\n",
    "\n",
    "\n"
   ]
  },
  {
   "cell_type": "code",
   "execution_count": 2,
   "metadata": {
    "code_folding": [
     0
    ],
    "colab": {
     "autoexec": {
      "startup": false,
      "wait_interval": 0
     }
    },
    "colab_type": "code",
    "id": "H7MMB4bYI5mU"
   },
   "outputs": [],
   "source": [
    "## Lenet\n",
    "import tensorflow as tf\n",
    "\n",
    "slim = tf.contrib.slim\n",
    "\n",
    "def Lenet(images,\n",
    "         num_classes=10,\n",
    "         is_training = True,\n",
    "         dropout_keep_prob = 0.5,\n",
    "         prediction_fn = slim.softmax,\n",
    "         scope = 'Lenet'):\n",
    "    parameters = {}\n",
    "    with tf.variable_scope(scope, 'Lenet', [images]):\n",
    "        net = parameters['conv1'] = slim.conv2d(images, 32, [5,5], scope='conv1')\n",
    "        net = parameters['pool1'] = slim.avg_pool2d(net, [2,2], 2, scope='pool1')\n",
    "        net = parameters['conv2'] = slim.conv2d(net, 64, [5,5], scope='conv2')\n",
    "        net = parameters['pool2'] = slim.avg_pool2d(net, [2,2], 2, scope='pool2')\n",
    "        net = slim.flatten(net)\n",
    "        parameter['Flatten'] = net\n",
    "    \n",
    "        net = parameter['fc3'] = slim.fully_connected(net, 1024, scope='fc3')\n",
    "        if not num_classes:\n",
    "            return net, parameters\n",
    "        net = parameters['dropout3'] = slim.dropout(net, \n",
    "                                                keep_prob=dropout_keep_prob, \n",
    "                                                is_training=is_training, \n",
    "                                                scope='dropout3')\n",
    "        logits = parameters['Logits'] = slim.fully_connected(net, \n",
    "                                                      num_classes, \n",
    "                                                      activation_fn=None, \n",
    "                                                      scope='fc4')\n",
    "        parameters['Predictions'] = prediction_fn(logits, scope = 'predictions')\n",
    "        return logits, parameters"
   ]
  },
  {
   "cell_type": "markdown",
   "metadata": {
    "colab_type": "text",
    "id": "6WFfOxSKIpcI"
   },
   "source": [
    "\n",
    "![](https://raw.githubusercontent.com/karenyyy/Coursera_and_Udemy/master/deeplearningai_coursera/Convolutional%20Neural%20Networks/images/21.png)\n",
    "\n"
   ]
  },
  {
   "cell_type": "code",
   "execution_count": 0,
   "metadata": {
    "colab": {
     "autoexec": {
      "startup": false,
      "wait_interval": 0
     }
    },
    "colab_type": "code",
    "id": "V6lZVE6GUqC-"
   },
   "outputs": [],
   "source": [
    "## AlexNet\n"
   ]
  },
  {
   "cell_type": "markdown",
   "metadata": {
    "colab_type": "text",
    "id": "aGjgeTrXIti4"
   },
   "source": [
    "\n",
    "![](https://raw.githubusercontent.com/karenyyy/Coursera_and_Udemy/master/deeplearningai_coursera/Convolutional%20Neural%20Networks/images/22.png)\n",
    "\n",
    "\n"
   ]
  },
  {
   "cell_type": "markdown",
   "metadata": {
    "colab_type": "text",
    "id": "mK7hkp0NIwPO"
   },
   "source": [
    "\n",
    "![](https://raw.githubusercontent.com/karenyyy/Coursera_and_Udemy/master/deeplearningai_coursera/Convolutional%20Neural%20Networks/images/23.png)\n",
    "\n",
    "\n"
   ]
  },
  {
   "cell_type": "markdown",
   "metadata": {
    "colab_type": "text",
    "id": "b6abQQOGIymu"
   },
   "source": [
    "\n",
    "\n",
    "![](https://raw.githubusercontent.com/karenyyy/Coursera_and_Udemy/master/deeplearningai_coursera/Convolutional%20Neural%20Networks/images/24.png)\n",
    "\n",
    "\n"
   ]
  },
  {
   "cell_type": "markdown",
   "metadata": {
    "colab_type": "text",
    "id": "wG7-QJiUI03S"
   },
   "source": [
    "\n",
    "> Why do residual networks work?\n",
    "\n",
    "\n",
    "![](https://raw.githubusercontent.com/karenyyy/Coursera_and_Udemy/master/deeplearningai_coursera/Convolutional%20Neural%20Networks/images/25.png)\n",
    "\n",
    "\n",
    "\n",
    "> What would be the problems in very deep plain net __without the residual of the skip connection__?\n",
    "\n",
    "\n",
    "__It is very difficult for the network to choose parameters that learn even the identity function which is why a lot of layers end up making the result worse rather than making the result better__\n",
    "\n",
    "__And residual network works since it is very easy for the extra layers to learn the identity function and then a lot of the time may even improve the performance__\n",
    "\n",
    "\n",
    "\n",
    "\n",
    "![](https://raw.githubusercontent.com/karenyyy/Coursera_and_Udemy/master/deeplearningai_coursera/Convolutional%20Neural%20Networks/images/26.png)\n"
   ]
  },
  {
   "cell_type": "code",
   "execution_count": 0,
   "metadata": {
    "colab": {
     "autoexec": {
      "startup": false,
      "wait_interval": 0
     }
    },
    "colab_type": "code",
    "id": "wToY8D4zIoei"
   },
   "outputs": [],
   "source": []
  }
 ],
 "metadata": {
  "colab": {
   "collapsed_sections": [],
   "default_view": {},
   "name": "week2.ipynb",
   "provenance": [],
   "version": "0.3.2",
   "views": {}
  },
  "kernelspec": {
   "display_name": "Python 3",
   "language": "python",
   "name": "python3"
  },
  "language_info": {
   "codemirror_mode": {
    "name": "ipython",
    "version": 3
   },
   "file_extension": ".py",
   "mimetype": "text/x-python",
   "name": "python",
   "nbconvert_exporter": "python",
   "pygments_lexer": "ipython3",
   "version": "3.5.2"
  },
  "latex_envs": {
   "LaTeX_envs_menu_present": true,
   "autoclose": false,
   "autocomplete": true,
   "bibliofile": "biblio.bib",
   "cite_by": "apalike",
   "current_citInitial": 1,
   "eqLabelWithNumbers": true,
   "eqNumInitial": 1,
   "hotkeys": {
    "equation": "Ctrl-E",
    "itemize": "Ctrl-I"
   },
   "labels_anchors": false,
   "latex_user_defs": false,
   "report_style_numbering": false,
   "user_envs_cfg": false
  }
 },
 "nbformat": 4,
 "nbformat_minor": 1
}
