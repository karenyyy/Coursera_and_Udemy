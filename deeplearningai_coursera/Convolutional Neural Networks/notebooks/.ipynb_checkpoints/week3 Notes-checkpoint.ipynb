{
 "cells": [
  {
   "cell_type": "markdown",
   "metadata": {
    "heading_collapsed": true
   },
   "source": [
    "### Convolutional Implementation of Sliding Windows\n",
    "\n",
    "\n",
    "\n",
    "\n",
    "\n",
    "\n",
    "\n",
    "\n",
    "\n",
    "\n",
    "\n",
    "\n",
    "\n",
    "\n",
    "\n"
   ]
  },
  {
   "cell_type": "markdown",
   "metadata": {
    "hidden": true
   },
   "source": [
    "\n",
    "![](../images/30.png)\n",
    "\n",
    "\n",
    "### Sliding windows\n",
    "\n",
    "\n",
    "![](../images/31.png)\n",
    "\n"
   ]
  },
  {
   "cell_type": "markdown",
   "metadata": {},
   "source": [
    "### YOLO"
   ]
  },
  {
   "cell_type": "markdown",
   "metadata": {
    "heading_collapsed": true
   },
   "source": [
    "#### IOU (Intersection Over Union)"
   ]
  },
  {
   "cell_type": "markdown",
   "metadata": {
    "hidden": true
   },
   "source": [
    "\n",
    "- yellow area\n",
    "    \n",
    "![](../images/32.png)\n",
    "\n",
    "\n",
    "$$IOU = \\frac{size \\: of \\: yellow \\: area}{size \\: of \\: green \\: area} $$ \n",
    "\n",
    "$$purple: \\: predicted \\: bounded \\: box$$\n",
    "\n",
    "\n",
    "$$red: \\: groundtruth \\: bounded \\: box$$\n",
    "\n",
    "\n",
    "$$'correct' \\: if \\: IOU  \\ge 0.5$$\n",
    "\n",
    "$$better \\: with \\: 0.6 \\: or \\: 0.7$$\n",
    "\n",
    "- Note: recall sth irrelevant: \n",
    "    - Precision and Recall\n",
    "    \n",
    "![](../images/33.png)\n"
   ]
  },
  {
   "cell_type": "markdown",
   "metadata": {
    "heading_collapsed": true
   },
   "source": [
    "#### Non-max suppression"
   ]
  },
  {
   "cell_type": "markdown",
   "metadata": {
    "hidden": true
   },
   "source": [
    "if the algorithm found multiple detections of the same objects, rather than detecting an object just once, it might detect it multiple times.\n",
    "\n",
    "\n",
    "__Non-max is a way to make sure that the algorithm detects each object only once__\n",
    "\n",
    "\n",
    "#### Non-max suppression example\n",
    "\n",
    "possible problems\n",
    "\n",
    "![](../images/34.png)\n",
    "\n",
    "- it first looks at the probabilities associated with  \n",
    "each of these detections\n",
    "- then takes the largest one as the most confident detection\n",
    "- then highlight and say a car is found there\n",
    "- then __the Non-max suppression part__ looks at all of the remaining rectangles and all the ones with a high overlap\n",
    "    - for instance: pick out 0.9, suppress 0.6, 0.7; pick out 0.9, suppress 0.7;\n",
    "\n",
    "![](../images/35.png)\n",
    "    \n"
   ]
  },
  {
   "cell_type": "markdown",
   "metadata": {
    "heading_collapsed": true
   },
   "source": [
    "#### Anchor Boxes"
   ]
  },
  {
   "cell_type": "markdown",
   "metadata": {
    "hidden": true
   },
   "source": [
    "> what to do when a grid cell wants to detect multiple objects?\n",
    "\n",
    "__Use Anchor boxes__\n",
    "\n",
    "\n",
    "- Overlapping objects\n",
    "\n",
    "![](../images/36.png)\n",
    "\n",
    "- Previously\n",
    "\n",
    "Each object in training image is assigned to grid cell that contains that object's midpoint\n",
    "\n",
    "- Now with 2 anchor boxes\n",
    "\n",
    "Each object in training image is assigned to a grid cell that contains object's midpoint and anchor box for the grid cell with highest IoU\n",
    "\n",
    "![](../images/37.png)\n",
    " \n",
    "\n",
    "> how do you choose anchor boxes?\n",
    "\n",
    "An advanced way to do this is to use K-means to group together 2 types of objects shapes you tend to get, and then use that to select a set of anchor boxes.\n",
    "\n",
    "![](../images/38.png)\n",
    "\n",
    "\n",
    "- 3x3: using a 3x3 grid cell, like using sliding window and get 3x3\n",
    "- 2: anchor boxes\n",
    "- 8: output classes\n",
    "\n",
    "![](../images/39.png)\n",
    "\n"
   ]
  },
  {
   "cell_type": "markdown",
   "metadata": {
    "heading_collapsed": true
   },
   "source": [
    "#### Example"
   ]
  },
  {
   "cell_type": "markdown",
   "metadata": {
    "hidden": true
   },
   "source": [
    "- For each grid cell, get 2 predicted bounding boxes\n",
    "\n",
    "![](../images/40.png)\n",
    "\n",
    "____\n",
    "- Next get rid of low probability predictions\n",
    "\n",
    "![](../images/41.png)\n",
    "____\n",
    "- For each class (pedestrian, car, motorcycle) use non-max suppression to generate final predictions\n",
    "\n",
    "![](../images/42.png)\n",
    "\n",
    "\n"
   ]
  },
  {
   "cell_type": "markdown",
   "metadata": {
    "heading_collapsed": true
   },
   "source": [
    "### R-CNN (Region with CNNs)"
   ]
  },
  {
   "cell_type": "markdown",
   "metadata": {
    "hidden": true
   },
   "source": [
    "_rather than running sliding windows on every single window, you instead select just a few windows and to run CNN on_\n",
    "\n",
    "\n",
    "____\n",
    "\n",
    "\n",
    "__the region proposals is to run an algorithm called a segmentation algorithm, run CNN on blobs found__\n",
    "\n",
    "![](../images/44.png)\n",
    "\n",
    "![](../images/43.png)\n",
    "\n",
    "![](../images/45.png)\n",
    "\n",
    "\n",
    "Summary:\n",
    "\n",
    "- R-CNN\n",
    "    - Propose regions. \n",
    "    - Classify proposed regions one at a time. \n",
    "    - Output label+bounding box\n",
    " - Fast R-CNN\n",
    "     - Propose regions.\n",
    "     - Use convolution implementation of sliding windows to classify all the proposed regions\n",
    "- Faster R-CNN\n",
    "    - Use convolutional network to propose regions\n",
    "- Mask R-CNN\n",
    "    -  __Faster R-CNN + masks__\n",
    "    \n",
    "\n",
    "    \n",
    " \n",
    "\n",
    " \n",
    "\n",
    "\n",
    "\n",
    "\n",
    "\n"
   ]
  },
  {
   "cell_type": "markdown",
   "metadata": {
    "hidden": true
   },
   "source": []
  }
 ],
 "metadata": {
  "kernelspec": {
   "display_name": "Python 3",
   "language": "python",
   "name": "python3"
  },
  "language_info": {
   "codemirror_mode": {
    "name": "ipython",
    "version": 3
   },
   "file_extension": ".py",
   "mimetype": "text/x-python",
   "name": "python",
   "nbconvert_exporter": "python",
   "pygments_lexer": "ipython3",
   "version": "3.5.2"
  },
  "latex_envs": {
   "LaTeX_envs_menu_present": true,
   "autoclose": false,
   "autocomplete": true,
   "bibliofile": "biblio.bib",
   "cite_by": "apalike",
   "current_citInitial": 1,
   "eqLabelWithNumbers": true,
   "eqNumInitial": 1,
   "hotkeys": {
    "equation": "Ctrl-E",
    "itemize": "Ctrl-I"
   },
   "labels_anchors": false,
   "latex_user_defs": false,
   "report_style_numbering": false,
   "user_envs_cfg": false
  }
 },
 "nbformat": 4,
 "nbformat_minor": 2
}
