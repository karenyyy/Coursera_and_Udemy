{
 "cells": [
  {
   "cell_type": "markdown",
   "metadata": {
    "colab_type": "text",
    "id": "87KlNlA6kvDS"
   },
   "source": [
    "### import dependencies"
   ]
  },
  {
   "cell_type": "code",
   "execution_count": 1,
   "metadata": {
    "colab": {
     "autoexec": {
      "startup": false,
      "wait_interval": 0
     },
     "base_uri": "https://localhost:8080/",
     "height": 34
    },
    "colab_type": "code",
    "executionInfo": {
     "elapsed": 2348,
     "status": "ok",
     "timestamp": 1531766434371,
     "user": {
      "displayName": "Jiarong Ye",
      "photoUrl": "//lh4.googleusercontent.com/-q7b8noGUXEk/AAAAAAAAAAI/AAAAAAAAAPE/c6ZjOOV9LiQ/s50-c-k-no/photo.jpg",
      "userId": "110838105291424103468"
     },
     "user_tz": 240
    },
    "id": "GkcZ-1WJZMAZ",
    "outputId": "a67290a0-f8bd-4068-8a8d-8cae19b92b6f"
   },
   "outputs": [
    {
     "name": "stderr",
     "output_type": "stream",
     "text": [
      "Using TensorFlow backend.\n"
     ]
    }
   ],
   "source": [
    "import colorsys\n",
    "import imghdr\n",
    "import os\n",
    "import random\n",
    "from keras import backend as K\n",
    "\n",
    "import numpy as np\n",
    "from PIL import Image, ImageDraw, ImageFont"
   ]
  },
  {
   "cell_type": "code",
   "execution_count": 2,
   "metadata": {
    "colab": {
     "autoexec": {
      "startup": false,
      "wait_interval": 0
     },
     "base_uri": "https://localhost:8080/",
     "height": 1374
    },
    "colab_type": "code",
    "executionInfo": {
     "elapsed": 7129,
     "status": "ok",
     "timestamp": 1531766629346,
     "user": {
      "displayName": "Jiarong Ye",
      "photoUrl": "//lh4.googleusercontent.com/-q7b8noGUXEk/AAAAAAAAAAI/AAAAAAAAAPE/c6ZjOOV9LiQ/s50-c-k-no/photo.jpg",
      "userId": "110838105291424103468"
     },
     "user_tz": 240
    },
    "id": "DLgUT696ZuQC",
    "outputId": "c509ad19-d9e0-4716-e5b9-f21f72944754"
   },
   "outputs": [
    {
     "name": "stdout",
     "output_type": "stream",
     "text": [
      "--2018-07-16 18:43:44--  https://hub.coursera-notebooks.org/user/lzstqjudclarqyimsfzdhu/edit/week3/Car%20detection%20for%20Autonomous%20Driving/model_data/coco_classes.txt\n",
      "Resolving hub.coursera-notebooks.org (hub.coursera-notebooks.org)... 34.192.29.60, 52.205.26.206\n",
      "Connecting to hub.coursera-notebooks.org (hub.coursera-notebooks.org)|34.192.29.60|:443... connected.\n",
      "HTTP request sent, awaiting response... 302 Moved Temporarily\n",
      "Location: /hub/user/lzstqjudclarqyimsfzdhu/edit/week3/Car%20detection%20for%20Autonomous%20Driving/model_data/coco_classes.txt [following]\n",
      "--2018-07-16 18:43:44--  https://hub.coursera-notebooks.org/hub/user/lzstqjudclarqyimsfzdhu/edit/week3/Car%20detection%20for%20Autonomous%20Driving/model_data/coco_classes.txt\n",
      "Reusing existing connection to hub.coursera-notebooks.org:443.\n",
      "HTTP request sent, awaiting response... 302 Moved Temporarily\n",
      "Location: /hub/login?next=%2Fhub%2Fuser%2Flzstqjudclarqyimsfzdhu%2Fedit%2Fweek3%2FCar%2520detection%2520for%2520Autonomous%2520Driving%2Fmodel_data%2Fcoco_classes.txt [following]\n",
      "--2018-07-16 18:43:44--  https://hub.coursera-notebooks.org/hub/login?next=%2Fhub%2Fuser%2Flzstqjudclarqyimsfzdhu%2Fedit%2Fweek3%2FCar%2520detection%2520for%2520Autonomous%2520Driving%2Fmodel_data%2Fcoco_classes.txt\n",
      "Reusing existing connection to hub.coursera-notebooks.org:443.\n",
      "HTTP request sent, awaiting response... 200 OK\n",
      "Length: 2603 (2.5K) [text/html]\n",
      "Saving to: ‘coco_classes.txt’\n",
      "\n",
      "coco_classes.txt    100%[===================>]   2.54K  --.-KB/s    in 0s      \n",
      "\n",
      "2018-07-16 18:43:45 (97.9 MB/s) - ‘coco_classes.txt’ saved [2603/2603]\n",
      "\n",
      "--2018-07-16 18:43:46--  https://hub.coursera-notebooks.org/user/lzstqjudclarqyimsfzdhu/edit/week3/Car%20detection%20for%20Autonomous%20Driving/model_data/object_classes.txt\n",
      "Resolving hub.coursera-notebooks.org (hub.coursera-notebooks.org)... 34.192.29.60, 52.205.26.206\n",
      "Connecting to hub.coursera-notebooks.org (hub.coursera-notebooks.org)|34.192.29.60|:443... connected.\n",
      "HTTP request sent, awaiting response... 302 Moved Temporarily\n",
      "Location: /hub/user/lzstqjudclarqyimsfzdhu/edit/week3/Car%20detection%20for%20Autonomous%20Driving/model_data/object_classes.txt [following]\n",
      "--2018-07-16 18:43:46--  https://hub.coursera-notebooks.org/hub/user/lzstqjudclarqyimsfzdhu/edit/week3/Car%20detection%20for%20Autonomous%20Driving/model_data/object_classes.txt\n",
      "Reusing existing connection to hub.coursera-notebooks.org:443.\n",
      "HTTP request sent, awaiting response... 302 Moved Temporarily\n",
      "Location: /hub/login?next=%2Fhub%2Fuser%2Flzstqjudclarqyimsfzdhu%2Fedit%2Fweek3%2FCar%2520detection%2520for%2520Autonomous%2520Driving%2Fmodel_data%2Fobject_classes.txt [following]\n",
      "--2018-07-16 18:43:46--  https://hub.coursera-notebooks.org/hub/login?next=%2Fhub%2Fuser%2Flzstqjudclarqyimsfzdhu%2Fedit%2Fweek3%2FCar%2520detection%2520for%2520Autonomous%2520Driving%2Fmodel_data%2Fobject_classes.txt\n",
      "Reusing existing connection to hub.coursera-notebooks.org:443.\n",
      "HTTP request sent, awaiting response... 200 OK\n",
      "Length: 2603 (2.5K) [text/html]\n",
      "Saving to: ‘object_classes.txt’\n",
      "\n",
      "object_classes.txt  100%[===================>]   2.54K  --.-KB/s    in 0s      \n",
      "\n",
      "2018-07-16 18:43:46 (87.8 MB/s) - ‘object_classes.txt’ saved [2603/2603]\n",
      "\n",
      "--2018-07-16 18:43:47--  https://hub.coursera-notebooks.org/user/lzstqjudclarqyimsfzdhu/view/week3/Car%20detection%20for%20Autonomous%20Driving/model_data/yolo.h5\n",
      "Resolving hub.coursera-notebooks.org (hub.coursera-notebooks.org)... 34.192.29.60, 52.205.26.206\n",
      "Connecting to hub.coursera-notebooks.org (hub.coursera-notebooks.org)|34.192.29.60|:443... connected.\n",
      "HTTP request sent, awaiting response... 302 Moved Temporarily\n",
      "Location: /hub/user/lzstqjudclarqyimsfzdhu/view/week3/Car%20detection%20for%20Autonomous%20Driving/model_data/yolo.h5 [following]\n",
      "--2018-07-16 18:43:48--  https://hub.coursera-notebooks.org/hub/user/lzstqjudclarqyimsfzdhu/view/week3/Car%20detection%20for%20Autonomous%20Driving/model_data/yolo.h5\n",
      "Reusing existing connection to hub.coursera-notebooks.org:443.\n",
      "HTTP request sent, awaiting response... 302 Moved Temporarily\n",
      "Location: /hub/login?next=%2Fhub%2Fuser%2Flzstqjudclarqyimsfzdhu%2Fview%2Fweek3%2FCar%2520detection%2520for%2520Autonomous%2520Driving%2Fmodel_data%2Fyolo.h5 [following]\n",
      "--2018-07-16 18:43:48--  https://hub.coursera-notebooks.org/hub/login?next=%2Fhub%2Fuser%2Flzstqjudclarqyimsfzdhu%2Fview%2Fweek3%2FCar%2520detection%2520for%2520Autonomous%2520Driving%2Fmodel_data%2Fyolo.h5\n",
      "Reusing existing connection to hub.coursera-notebooks.org:443.\n",
      "HTTP request sent, awaiting response... 200 OK\n",
      "Length: 2603 (2.5K) [text/html]\n",
      "Saving to: ‘yolo.h5’\n",
      "\n",
      "yolo.h5             100%[===================>]   2.54K  --.-KB/s    in 0s      \n",
      "\n",
      "2018-07-16 18:43:48 (10.5 MB/s) - ‘yolo.h5’ saved [2603/2603]\n",
      "\n",
      "--2018-07-16 18:43:49--  https://hub.coursera-notebooks.org/user/lzstqjudclarqyimsfzdhu/edit/week3/Car%20detection%20for%20Autonomous%20Driving/model_data/yolo_anchors.txt\n",
      "Resolving hub.coursera-notebooks.org (hub.coursera-notebooks.org)... 34.192.29.60, 52.205.26.206\n",
      "Connecting to hub.coursera-notebooks.org (hub.coursera-notebooks.org)|34.192.29.60|:443... connected.\n",
      "HTTP request sent, awaiting response... 302 Moved Temporarily\n",
      "Location: /hub/user/lzstqjudclarqyimsfzdhu/edit/week3/Car%20detection%20for%20Autonomous%20Driving/model_data/yolo_anchors.txt [following]\n",
      "--2018-07-16 18:43:49--  https://hub.coursera-notebooks.org/hub/user/lzstqjudclarqyimsfzdhu/edit/week3/Car%20detection%20for%20Autonomous%20Driving/model_data/yolo_anchors.txt\n",
      "Reusing existing connection to hub.coursera-notebooks.org:443.\n",
      "HTTP request sent, awaiting response... 302 Moved Temporarily\n",
      "Location: /hub/login?next=%2Fhub%2Fuser%2Flzstqjudclarqyimsfzdhu%2Fedit%2Fweek3%2FCar%2520detection%2520for%2520Autonomous%2520Driving%2Fmodel_data%2Fyolo_anchors.txt [following]\n",
      "--2018-07-16 18:43:49--  https://hub.coursera-notebooks.org/hub/login?next=%2Fhub%2Fuser%2Flzstqjudclarqyimsfzdhu%2Fedit%2Fweek3%2FCar%2520detection%2520for%2520Autonomous%2520Driving%2Fmodel_data%2Fyolo_anchors.txt\n",
      "Reusing existing connection to hub.coursera-notebooks.org:443.\n",
      "HTTP request sent, awaiting response... 200 OK\n",
      "Length: 2603 (2.5K) [text/html]\n",
      "Saving to: ‘yolo_anchors.txt’\n",
      "\n",
      "yolo_anchors.txt    100%[===================>]   2.54K  --.-KB/s    in 0s      \n",
      "\n",
      "2018-07-16 18:43:50 (107 MB/s) - ‘yolo_anchors.txt’ saved [2603/2603]\n",
      "\n"
     ]
    }
   ],
   "source": [
    "!wget https://hub.coursera-notebooks.org/user/lzstqjudclarqyimsfzdhu/edit/week3/Car%20detection%20for%20Autonomous%20Driving/model_data/coco_classes.txt\n",
    "!wget https://hub.coursera-notebooks.org/user/lzstqjudclarqyimsfzdhu/edit/week3/Car%20detection%20for%20Autonomous%20Driving/model_data/object_classes.txt\n",
    "!wget https://hub.coursera-notebooks.org/user/lzstqjudclarqyimsfzdhu/view/week3/Car%20detection%20for%20Autonomous%20Driving/model_data/yolo.h5\n",
    "!wget https://hub.coursera-notebooks.org/user/lzstqjudclarqyimsfzdhu/edit/week3/Car%20detection%20for%20Autonomous%20Driving/model_data/yolo_anchors.txt"
   ]
  },
  {
   "cell_type": "code",
   "execution_count": 33,
   "metadata": {
    "colab": {
     "autoexec": {
      "startup": false,
      "wait_interval": 0
     },
     "base_uri": "https://localhost:8080/",
     "height": 52
    },
    "colab_type": "code",
    "executionInfo": {
     "elapsed": 1305,
     "status": "ok",
     "timestamp": 1531767785084,
     "user": {
      "displayName": "Jiarong Ye",
      "photoUrl": "//lh4.googleusercontent.com/-q7b8noGUXEk/AAAAAAAAAAI/AAAAAAAAAPE/c6ZjOOV9LiQ/s50-c-k-no/photo.jpg",
      "userId": "110838105291424103468"
     },
     "user_tz": 240
    },
    "id": "ldCaj4zxZuG1",
    "outputId": "3700d50c-6177-4fcd-e983-58dcc52b4c62"
   },
   "outputs": [
    {
     "name": "stdout",
     "output_type": "stream",
     "text": [
      "coco_classes.txt  FiraMono-Medium.otf  \u001b[0m\u001b[01;34mMask_RCNN\u001b[0m/  \u001b[01;34msamples\u001b[0m/          yolo.h5\r\n",
      "\u001b[01;34mdatalab\u001b[0m/          \u001b[01;34mimages\u001b[0m/              \u001b[01;34mmrcnn\u001b[0m/      yolo_anchors.txt\r\n"
     ]
    }
   ],
   "source": [
    "ls"
   ]
  },
  {
   "cell_type": "code",
   "execution_count": 32,
   "metadata": {
    "colab": {
     "autoexec": {
      "startup": false,
      "wait_interval": 0
     },
     "base_uri": "https://localhost:8080/",
     "height": 91,
     "resources": {
      "http://localhost:8080/nbextensions/google.colab/files.js": {
       "data": "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",
       "headers": [
        [
         "content-type",
         "application/javascript"
        ]
       ],
       "ok": true,
       "status": 200,
       "status_text": ""
      }
     }
    },
    "colab_type": "code",
    "executionInfo": {
     "elapsed": 10908,
     "status": "ok",
     "timestamp": 1531767780830,
     "user": {
      "displayName": "Jiarong Ye",
      "photoUrl": "//lh4.googleusercontent.com/-q7b8noGUXEk/AAAAAAAAAAI/AAAAAAAAAPE/c6ZjOOV9LiQ/s50-c-k-no/photo.jpg",
      "userId": "110838105291424103468"
     },
     "user_tz": 240
    },
    "id": "Vx4vyJo4aoB5",
    "outputId": "db3d41a0-c3d9-4006-a236-a3e3256c73e9"
   },
   "outputs": [
    {
     "data": {
      "text/html": [
       "\n",
       "     <input type=\"file\" id=\"files-bfa39353-2a24-47de-aa23-8a57baf5376d\" name=\"files[]\" multiple disabled />\n",
       "     <output id=\"result-bfa39353-2a24-47de-aa23-8a57baf5376d\">\n",
       "      Upload widget is only available when the cell has been executed in the\n",
       "      current browser session. Please rerun this cell to enable.\n",
       "      </output>\n",
       "      <script src=\"/nbextensions/google.colab/files.js\"></script> "
      ],
      "text/plain": [
       "<IPython.core.display.HTML object>"
      ]
     },
     "metadata": {
      "tags": []
     },
     "output_type": "display_data"
    },
    {
     "name": "stdout",
     "output_type": "stream",
     "text": [
      "Saving FiraMono-Medium.otf to FiraMono-Medium.otf\n",
      "User uploaded file \"FiraMono-Medium.otf\" with length 127344 bytes\n"
     ]
    }
   ],
   "source": [
    "from google.colab import files\n",
    "\n",
    "uploaded = files.upload()\n",
    "\n",
    "for fn in uploaded.keys():\n",
    "  print('User uploaded file \"{name}\" with length {length} bytes'.format(\n",
    "      name=fn, length=len(uploaded[fn])))"
   ]
  },
  {
   "cell_type": "markdown",
   "metadata": {
    "colab_type": "text",
    "id": "1KYmrOlKknh4"
   },
   "source": [
    "### yolo_utils"
   ]
  },
  {
   "cell_type": "code",
   "execution_count": 0,
   "metadata": {
    "cellView": "code",
    "colab": {
     "autoexec": {
      "startup": false,
      "wait_interval": 0
     }
    },
    "colab_type": "code",
    "id": "Saix-QrvZQrc"
   },
   "outputs": [],
   "source": [
    "#@title Default title text\n",
    "def read_classes(classes_path):\n",
    "    with open(classes_path) as f:\n",
    "        class_names = f.readlines()\n",
    "        # print(class_names)\n",
    "    class_names = [c.strip() for c in class_names]\n",
    "    return class_names\n",
    "class_names = read_classes('coco_classes.txt')"
   ]
  },
  {
   "cell_type": "code",
   "execution_count": 16,
   "metadata": {
    "colab": {
     "autoexec": {
      "startup": false,
      "wait_interval": 0
     },
     "base_uri": "https://localhost:8080/",
     "height": 105
    },
    "colab_type": "code",
    "executionInfo": {
     "elapsed": 282,
     "status": "ok",
     "timestamp": 1531767129557,
     "user": {
      "displayName": "Jiarong Ye",
      "photoUrl": "//lh4.googleusercontent.com/-q7b8noGUXEk/AAAAAAAAAAI/AAAAAAAAAPE/c6ZjOOV9LiQ/s50-c-k-no/photo.jpg",
      "userId": "110838105291424103468"
     },
     "user_tz": 240
    },
    "id": "77TB48rSZQoV",
    "outputId": "38a809cf-4bd5-487a-9108-aa876f065e3a"
   },
   "outputs": [
    {
     "data": {
      "text/plain": [
       "array([[0.57273 , 0.677385],\n",
       "       [1.87446 , 2.06253 ],\n",
       "       [3.33843 , 5.47434 ],\n",
       "       [7.88282 , 3.52778 ],\n",
       "       [9.77052 , 9.16828 ]])"
      ]
     },
     "execution_count": 16,
     "metadata": {
      "tags": []
     },
     "output_type": "execute_result"
    }
   ],
   "source": [
    "def read_anchors(anchors_path):\n",
    "    with open(anchors_path) as f:\n",
    "        anchors = f.readline()\n",
    "        anchors = [float(x) for x in anchors.split(',')]\n",
    "        anchors = np.array(anchors).reshape(-1, 2) # n rows, 2 cols\n",
    "    return anchors\n",
    "\n",
    "read_anchors('yolo_anchors.txt')"
   ]
  },
  {
   "cell_type": "code",
   "execution_count": 0,
   "metadata": {
    "colab": {
     "autoexec": {
      "startup": false,
      "wait_interval": 0
     }
    },
    "colab_type": "code",
    "id": "6iHKeYNSZQlj"
   },
   "outputs": [],
   "source": [
    "def generate_colors(class_names):\n",
    "    hsv_tuples = [(x / len(class_names), 1., 1.) for x in range(len(class_names))]\n",
    "    colors = list(map(lambda x: colorsys.hsv_to_rgb(*x), hsv_tuples))\n",
    "    colors = list(map(lambda x: (int(x[0] * 255), int(x[1] * 255), int(x[2] * 255)), colors))\n",
    "    random.seed(10101)  # Fixed seed for consistent colors across runs.\n",
    "    random.shuffle(colors)  # Shuffle colors to decorrelate adjacent classes.\n",
    "    random.seed(None)  # Reset seed to default.\n",
    "    return colors"
   ]
  },
  {
   "cell_type": "code",
   "execution_count": 29,
   "metadata": {
    "colab": {
     "autoexec": {
      "startup": false,
      "wait_interval": 0
     },
     "base_uri": "https://localhost:8080/",
     "height": 1425
    },
    "colab_type": "code",
    "executionInfo": {
     "elapsed": 311,
     "status": "ok",
     "timestamp": 1531767591557,
     "user": {
      "displayName": "Jiarong Ye",
      "photoUrl": "//lh4.googleusercontent.com/-q7b8noGUXEk/AAAAAAAAAAI/AAAAAAAAAPE/c6ZjOOV9LiQ/s50-c-k-no/photo.jpg",
      "userId": "110838105291424103468"
     },
     "user_tz": 240
    },
    "id": "jDGaf0_gcsG7",
    "outputId": "11cd0dff-2685-46d2-a152-a859823e9277"
   },
   "outputs": [
    {
     "data": {
      "text/plain": [
       "[(255, 38, 0),\n",
       " (0, 63, 255),\n",
       " (255, 114, 0),\n",
       " (127, 255, 0),\n",
       " (146, 255, 0),\n",
       " (223, 255, 0),\n",
       " (0, 255, 25),\n",
       " (242, 0, 255),\n",
       " (0, 235, 255),\n",
       " (0, 140, 255),\n",
       " (0, 44, 255),\n",
       " (255, 191, 0),\n",
       " (0, 255, 6),\n",
       " (255, 19, 0),\n",
       " (255, 76, 0),\n",
       " (70, 255, 0),\n",
       " (0, 159, 255),\n",
       " (255, 248, 0),\n",
       " (255, 229, 0),\n",
       " (0, 255, 159),\n",
       " (255, 133, 0),\n",
       " (255, 172, 0),\n",
       " (0, 197, 255),\n",
       " (12, 255, 0),\n",
       " (255, 0, 95),\n",
       " (0, 255, 255),\n",
       " (89, 255, 0),\n",
       " (0, 6, 255),\n",
       " (242, 255, 0),\n",
       " (146, 0, 255),\n",
       " (0, 255, 44),\n",
       " (0, 216, 255),\n",
       " (70, 0, 255),\n",
       " (255, 0, 57),\n",
       " (184, 255, 0),\n",
       " (0, 82, 255),\n",
       " (184, 0, 255),\n",
       " (255, 0, 152),\n",
       " (0, 25, 255),\n",
       " (255, 0, 19),\n",
       " (0, 255, 178),\n",
       " (255, 0, 191),\n",
       " (0, 255, 197),\n",
       " (255, 210, 0),\n",
       " (255, 0, 76),\n",
       " (204, 0, 255),\n",
       " (255, 153, 0),\n",
       " (0, 255, 82),\n",
       " (255, 95, 0),\n",
       " (165, 0, 255),\n",
       " (51, 255, 0),\n",
       " (127, 0, 255),\n",
       " (0, 255, 140),\n",
       " (255, 0, 229),\n",
       " (255, 0, 38),\n",
       " (0, 121, 255),\n",
       " (255, 0, 114),\n",
       " (12, 0, 255),\n",
       " (203, 255, 0),\n",
       " (255, 0, 210),\n",
       " (108, 0, 255),\n",
       " (50, 0, 255),\n",
       " (89, 0, 255),\n",
       " (255, 57, 0),\n",
       " (255, 0, 0),\n",
       " (31, 0, 255),\n",
       " (255, 0, 172),\n",
       " (0, 255, 121),\n",
       " (0, 178, 255),\n",
       " (31, 255, 0),\n",
       " (255, 0, 248),\n",
       " (108, 255, 0),\n",
       " (223, 0, 255),\n",
       " (165, 255, 0),\n",
       " (0, 255, 102),\n",
       " (0, 102, 255),\n",
       " (0, 255, 216),\n",
       " (0, 255, 235),\n",
       " (255, 0, 133),\n",
       " (0, 255, 63)]"
      ]
     },
     "execution_count": 29,
     "metadata": {
      "tags": []
     },
     "output_type": "execute_result"
    }
   ],
   "source": [
    "generate_colors(class_names)"
   ]
  },
  {
   "cell_type": "code",
   "execution_count": 0,
   "metadata": {
    "colab": {
     "autoexec": {
      "startup": false,
      "wait_interval": 0
     }
    },
    "colab_type": "code",
    "id": "xVeRhmfEducG"
   },
   "outputs": [],
   "source": [
    "def scale_boxes(boxes, image_shape):\n",
    "    \"\"\" Scales the predicted boxes in order to be drawable on the image\"\"\"\n",
    "    height = image_shape[0]\n",
    "    width = image_shape[1]\n",
    "    image_dims = K.stack([height, width, height, width])\n",
    "    print(image_dims.shape)\n",
    "    image_dims = K.reshape(image_dims, [1, 4])\n",
    "    boxes = boxes * image_dims\n",
    "    return boxes"
   ]
  },
  {
   "cell_type": "code",
   "execution_count": 0,
   "metadata": {
    "colab": {
     "autoexec": {
      "startup": false,
      "wait_interval": 0
     }
    },
    "colab_type": "code",
    "id": "I44MBBGPduYo"
   },
   "outputs": [],
   "source": [
    "def preprocess_image(img_path, model_image_size):\n",
    "    image_type = imghdr.what(img_path)\n",
    "    image = Image.open(img_path)\n",
    "    resized_image = image.resize(tuple(reversed(model_image_size)), Image.BICUBIC)\n",
    "    image_data = np.array(resized_image, dtype='float32')\n",
    "    image_data /= 255.\n",
    "    image_data = np.expand_dims(image_data, 0)  # Add batch dimension.\n",
    "    return image, image_data"
   ]
  },
  {
   "cell_type": "code",
   "execution_count": 0,
   "metadata": {
    "colab": {
     "autoexec": {
      "startup": false,
      "wait_interval": 0
     }
    },
    "colab_type": "code",
    "id": "1497ZAeDY8F4"
   },
   "outputs": [],
   "source": [
    "def draw_boxes(image, out_scores, out_boxes, out_classes, class_names, colors):\n",
    "    \n",
    "    font = ImageFont.truetype(font='font/FiraMono-Medium.otf',size=np.floor(3e-2 * image.size[1] + 0.5).astype('int32'))\n",
    "    thickness = (image.size[0] + image.size[1]) // 300\n",
    "\n",
    "    for i, c in reversed(list(enumerate(out_classes))):\n",
    "        predicted_class = class_names[c]\n",
    "        box = out_boxes[i]\n",
    "        score = out_scores[i]\n",
    "\n",
    "        label = '{} {:.2f}'.format(predicted_class, score)\n",
    "\n",
    "        draw = ImageDraw.Draw(image)\n",
    "        label_size = draw.textsize(label, font)\n",
    "\n",
    "        top, left, bottom, right = box\n",
    "        top = max(0, np.floor(top + 0.5).astype('int32'))\n",
    "        left = max(0, np.floor(left + 0.5).astype('int32'))\n",
    "        bottom = min(image.size[1], np.floor(bottom + 0.5).astype('int32'))\n",
    "        right = min(image.size[0], np.floor(right + 0.5).astype('int32'))\n",
    "        print(label, (left, top), (right, bottom))\n",
    "\n",
    "        if top - label_size[1] >= 0:\n",
    "            text_origin = np.array([left, top - label_size[1]])\n",
    "        else:\n",
    "            text_origin = np.array([left, top + 1])\n",
    "\n",
    "        for i in range(thickness):\n",
    "            draw.rectangle([left + i, top + i, right - i, bottom - i], outline=colors[c])\n",
    "        draw.rectangle([tuple(text_origin), tuple(text_origin + label_size)], fill=colors[c])\n",
    "        draw.text(text_origin, label, fill=(0, 0, 0), font=font)\n",
    "        del draw"
   ]
  },
  {
   "cell_type": "code",
   "execution_count": 37,
   "metadata": {
    "colab": {
     "autoexec": {
      "startup": false,
      "wait_interval": 0
     },
     "base_uri": "https://localhost:8080/",
     "height": 34
    },
    "colab_type": "code",
    "executionInfo": {
     "elapsed": 272,
     "status": "ok",
     "timestamp": 1531768128942,
     "user": {
      "displayName": "Jiarong Ye",
      "photoUrl": "//lh4.googleusercontent.com/-q7b8noGUXEk/AAAAAAAAAAI/AAAAAAAAAPE/c6ZjOOV9LiQ/s50-c-k-no/photo.jpg",
      "userId": "110838105291424103468"
     },
     "user_tz": 240
    },
    "id": "Jsv5FAAPebxe",
    "outputId": "44001c98-49c3-47e7-c4a3-5f553278cacb"
   },
   "outputs": [
    {
     "data": {
      "text/plain": [
       "[4, 3, 2, 1]"
      ]
     },
     "execution_count": 37,
     "metadata": {
      "tags": []
     },
     "output_type": "execute_result"
    }
   ],
   "source": [
    "[i for i in reversed([1,2,3,4])]"
   ]
  },
  {
   "cell_type": "markdown",
   "metadata": {
    "colab_type": "text",
    "id": "Uczm64TUhSSz"
   },
   "source": [
    "## YOLO_v2 Model Defined in Keras."
   ]
  },
  {
   "cell_type": "markdown",
   "metadata": {
    "colab_type": "text",
    "id": "xX6lpWT_h53-"
   },
   "source": [
    "### utils\n",
    "\n",
    "复合函数"
   ]
  },
  {
   "cell_type": "code",
   "execution_count": 0,
   "metadata": {
    "colab": {
     "autoexec": {
      "startup": false,
      "wait_interval": 0
     }
    },
    "colab_type": "code",
    "id": "uUxbdL2mh5Iq"
   },
   "outputs": [],
   "source": [
    "from functools import reduce\n",
    "\n",
    "\n",
    "def compose(*funcs):\n",
    "    # return lambda x: reduce(lambda v, f: f(v), funcs, x)\n",
    "    if funcs:\n",
    "        return reduce(lambda f, g: lambda *a, **kw: g(f(*a, **kw)), funcs)\n",
    "    else:\n",
    "        raise ValueError('Composition of empty sequence not supported.')"
   ]
  },
  {
   "cell_type": "markdown",
   "metadata": {
    "colab_type": "text",
    "id": "L8lYSHQkhvF6"
   },
   "source": [
    "### Yad2k: Yet Another DarkNet to Keras"
   ]
  },
  {
   "cell_type": "code",
   "execution_count": 0,
   "metadata": {
    "colab": {
     "autoexec": {
      "startup": false,
      "wait_interval": 0
     }
    },
    "colab_type": "code",
    "id": "b-pq_I6AhQJO"
   },
   "outputs": [],
   "source": [
    "\"\"\"Darknet19 Model Defined in Keras.\"\"\"\n",
    "import functools\n",
    "from functools import partial\n",
    "\n",
    "from keras.layers import Conv2D, MaxPooling2D\n",
    "from keras.layers.advanced_activations import LeakyReLU\n",
    "from keras.layers.normalization import BatchNormalization\n",
    "from keras.models import Model\n",
    "from keras.regularizers import l2\n",
    "\n",
    "# Partial wrapper for Convolution2D with static default argument.\n",
    "_DarknetConv2D = partial(Conv2D, padding='same')\n",
    "\n",
    "\n",
    "@functools.wraps(Conv2D)\n",
    "def DarknetConv2D(*args, **kwargs):\n",
    "    \"\"\"Wrapper to set Darknet weight regularizer for Convolution2D.\"\"\"\n",
    "    darknet_conv_kwargs = {'kernel_regularizer': l2(5e-4)}\n",
    "    darknet_conv_kwargs.update(kwargs)\n",
    "    return _DarknetConv2D(*args, **darknet_conv_kwargs)\n",
    "\n",
    "\n",
    "def DarknetConv2D_BN_Leaky(*args, **kwargs):\n",
    "    \"\"\"Darknet Convolution2D followed by BatchNormalization and LeakyReLU.\"\"\"\n",
    "    no_bias_kwargs = {'use_bias': False}\n",
    "    no_bias_kwargs.update(kwargs)\n",
    "    return compose(\n",
    "        DarknetConv2D(*args, **no_bias_kwargs),\n",
    "        BatchNormalization(),\n",
    "        LeakyReLU(alpha=0.1))\n",
    "\n",
    "\n",
    "def bottleneck_block(outer_filters, bottleneck_filters):\n",
    "    \"\"\"Bottleneck block of 3x3, 1x1, 3x3 convolutions.\"\"\"\n",
    "    return compose(\n",
    "        DarknetConv2D_BN_Leaky(outer_filters, (3, 3)),\n",
    "        DarknetConv2D_BN_Leaky(bottleneck_filters, (1, 1)),\n",
    "        DarknetConv2D_BN_Leaky(outer_filters, (3, 3)))\n",
    "\n",
    "\n",
    "def bottleneck_x2_block(outer_filters, bottleneck_filters):\n",
    "    \"\"\"Bottleneck block of 3x3, 1x1, 3x3, 1x1, 3x3 convolutions.\"\"\"\n",
    "    return compose(\n",
    "        bottleneck_block(outer_filters, bottleneck_filters),\n",
    "        DarknetConv2D_BN_Leaky(bottleneck_filters, (1, 1)),\n",
    "        DarknetConv2D_BN_Leaky(outer_filters, (3, 3)))\n",
    "\n",
    "\n",
    "def darknet_body():\n",
    "    \"\"\"Generate first 18 conv layers of Darknet-19.\"\"\"\n",
    "    return compose(\n",
    "        DarknetConv2D_BN_Leaky(32, (3, 3)),\n",
    "        MaxPooling2D(),\n",
    "        DarknetConv2D_BN_Leaky(64, (3, 3)),\n",
    "        MaxPooling2D(),\n",
    "        bottleneck_block(128, 64),\n",
    "        MaxPooling2D(),\n",
    "        bottleneck_block(256, 128),\n",
    "        MaxPooling2D(),\n",
    "        bottleneck_x2_block(512, 256),\n",
    "        MaxPooling2D(),\n",
    "        bottleneck_x2_block(1024, 512))\n",
    "\n",
    "\n",
    "def darknet19(inputs):\n",
    "    \"\"\"Generate Darknet-19 model for Imagenet classification.\"\"\"\n",
    "    body = darknet_body()(inputs)\n",
    "    logits = DarknetConv2D(1000, (1, 1), activation='softmax')(body)\n",
    "    return Model(inputs, logits)\n"
   ]
  },
  {
   "cell_type": "markdown",
   "metadata": {
    "colab_type": "text",
    "id": "JfP_wmjMqTT5"
   },
   "source": [
    "### Another easier way for DarkNet (using Tensorflow)"
   ]
  },
  {
   "cell_type": "code",
   "execution_count": 0,
   "metadata": {
    "colab": {
     "autoexec": {
      "startup": false,
      "wait_interval": 0
     }
    },
    "colab_type": "code",
    "id": "DQuILkr_qpAW"
   },
   "outputs": [],
   "source": [
    "import tensorflow as tf"
   ]
  },
  {
   "cell_type": "code",
   "execution_count": 0,
   "metadata": {
    "colab": {
     "autoexec": {
      "startup": false,
      "wait_interval": 0
     }
    },
    "colab_type": "code",
    "id": "j9inVuCCqSxq"
   },
   "outputs": [],
   "source": [
    "def conv_block(net, kernel, bias, name = 'None'):\n",
    "  conv = tf.nn.conv2d(net, kernel, strides=[1,1,1,1], padding='SAME')\n",
    "  conv = tf.nn.bias_add(conv, bias)\n",
    "  conv = tf.nn.leaky_relu(conv)\n",
    "  return conv"
   ]
  },
  {
   "cell_type": "code",
   "execution_count": 46,
   "metadata": {
    "colab": {
     "autoexec": {
      "startup": false,
      "wait_interval": 0
     },
     "base_uri": "https://localhost:8080/",
     "height": 238
    },
    "colab_type": "code",
    "executionInfo": {
     "elapsed": 304,
     "status": "error",
     "timestamp": 1531771614268,
     "user": {
      "displayName": "Jiarong Ye",
      "photoUrl": "//lh4.googleusercontent.com/-q7b8noGUXEk/AAAAAAAAAAI/AAAAAAAAAPE/c6ZjOOV9LiQ/s50-c-k-no/photo.jpg",
      "userId": "110838105291424103468"
     },
     "user_tz": 240
    },
    "id": "ImvRmsfCrLEd",
    "outputId": "b197f231-1f35-4488-e14d-f6b45fcaf644"
   },
   "outputs": [
    {
     "ename": "NameError",
     "evalue": "ignored",
     "output_type": "error",
     "traceback": [
      "\u001b[0;31m---------------------------------------------------------------------------\u001b[0m",
      "\u001b[0;31mNameError\u001b[0m                                 Traceback (most recent call last)",
      "\u001b[0;32m<ipython-input-46-1f6e16b32882>\u001b[0m in \u001b[0;36m<module>\u001b[0;34m()\u001b[0m\n\u001b[0;32m----> 1\u001b[0;31m \u001b[0mconv\u001b[0m \u001b[0;34m=\u001b[0m \u001b[0mconv_block\u001b[0m\u001b[0;34m(\u001b[0m\u001b[0mnet\u001b[0m\u001b[0;34m,\u001b[0m \u001b[0mkernel1\u001b[0m\u001b[0;34m,\u001b[0m \u001b[0mbias1\u001b[0m\u001b[0;34m)\u001b[0m\u001b[0;34m\u001b[0m\u001b[0m\n\u001b[0m\u001b[1;32m      2\u001b[0m \u001b[0mconv\u001b[0m \u001b[0;34m=\u001b[0m \u001b[0mtf\u001b[0m\u001b[0;34m.\u001b[0m\u001b[0mcontrib\u001b[0m\u001b[0;34m.\u001b[0m\u001b[0mlayers\u001b[0m\u001b[0;34m.\u001b[0m\u001b[0mmax_pool2d\u001b[0m\u001b[0;34m(\u001b[0m\u001b[0mconv\u001b[0m\u001b[0;34m,\u001b[0m \u001b[0;34m[\u001b[0m\u001b[0;36m2\u001b[0m\u001b[0;34m,\u001b[0m\u001b[0;36m2\u001b[0m\u001b[0;34m]\u001b[0m\u001b[0;34m,\u001b[0m \u001b[0mstride\u001b[0m\u001b[0;34m=\u001b[0m\u001b[0;36m2\u001b[0m\u001b[0;34m)\u001b[0m\u001b[0;34m\u001b[0m\u001b[0m\n\u001b[1;32m      3\u001b[0m \u001b[0mconv\u001b[0m \u001b[0;34m=\u001b[0m \u001b[0mconv_block\u001b[0m\u001b[0;34m(\u001b[0m\u001b[0mconv\u001b[0m\u001b[0;34m,\u001b[0m \u001b[0mkernel2\u001b[0m\u001b[0;34m,\u001b[0m \u001b[0mbias2\u001b[0m\u001b[0;34m)\u001b[0m\u001b[0;34m\u001b[0m\u001b[0m\n\u001b[1;32m      4\u001b[0m \u001b[0mconv\u001b[0m \u001b[0;34m=\u001b[0m \u001b[0mtf\u001b[0m\u001b[0;34m.\u001b[0m\u001b[0mcontrib\u001b[0m\u001b[0;34m.\u001b[0m\u001b[0mlayers\u001b[0m\u001b[0;34m.\u001b[0m\u001b[0mmax_pool2d\u001b[0m\u001b[0;34m(\u001b[0m\u001b[0mconv\u001b[0m\u001b[0;34m,\u001b[0m \u001b[0;34m[\u001b[0m\u001b[0;36m2\u001b[0m\u001b[0;34m,\u001b[0m\u001b[0;36m2\u001b[0m\u001b[0;34m]\u001b[0m\u001b[0;34m,\u001b[0m \u001b[0mstride\u001b[0m\u001b[0;34m=\u001b[0m\u001b[0;36m2\u001b[0m\u001b[0;34m)\u001b[0m\u001b[0;34m\u001b[0m\u001b[0m\n\u001b[1;32m      5\u001b[0m \u001b[0mconv\u001b[0m \u001b[0;34m=\u001b[0m \u001b[0mconv_block\u001b[0m\u001b[0;34m(\u001b[0m\u001b[0mconv\u001b[0m\u001b[0;34m,\u001b[0m \u001b[0mkernel3\u001b[0m\u001b[0;34m,\u001b[0m \u001b[0mbias3\u001b[0m\u001b[0;34m)\u001b[0m\u001b[0;34m\u001b[0m\u001b[0m\n",
      "\u001b[0;31mNameError\u001b[0m: name 'net' is not defined"
     ]
    }
   ],
   "source": [
    "conv = conv_block(net, kernel1, bias1)\n",
    "conv = tf.contrib.layers.max_pool2d(conv, [2,2], stride=2)\n",
    "conv = conv_block(conv, kernel2, bias2)\n",
    "conv = tf.contrib.layers.max_pool2d(conv, [2,2], stride=2)\n",
    "conv = conv_block(conv, kernel3, bias3)\n",
    "conv = conv_block(conv, kernel4, bias4)\n",
    "conv = conv_block(conv, kernel5, bias5)\n",
    "conv = tf.contrib.layers.max_pool2d(conv, [2,2], stride=2)\n",
    "conv = conv_block(conv, kernel6, bias6)\n",
    "conv = conv_block(conv, kernel7, bias7)\n",
    "conv = conv_block(conv, kernel8, bias8)\n",
    "conv = tf.contrib.layers.max_pool2d(conv, [2,2], stride=2)\n",
    "conv = conv_block(conv, kernel9, bias9)\n",
    "conv = conv_block(conv, kernel10, bias10)\n",
    "conv = conv_block(conv, kernel11, bias11)\n",
    "conv = conv_block(conv, kernel12, bias12)\n",
    "conv = conv_block(conv, kernel13, bias13)\n",
    "conv = tf.contrib.layers.max_pool2d(conv, [2,2], stride=2)\n",
    "conv = conv_block(conv, kernel14, bias14)\n",
    "conv = conv_block(conv, kernel15, bias15)\n",
    "conv = conv_block(conv, kernel16, bias16)\n",
    "conv = conv_block(conv, kernel17, bias17)\n",
    "conv = conv_block(conv, kernel18, bias18)"
   ]
  },
  {
   "cell_type": "code",
   "execution_count": 0,
   "metadata": {
    "colab": {
     "autoexec": {
      "startup": false,
      "wait_interval": 0
     }
    },
    "colab_type": "code",
    "id": "MYz6oUWDtA8s"
   },
   "outputs": [],
   "source": [
    "if imagenet_classify:\n",
    "  conv = conv_block(conv, kernel19, bias19, name='None')\n",
    "  conv = tf.nn.avg_pool(conv, \n",
    "                        ksize=[1, conv.get_shape()[1], conv.get_shape()[2],1],\n",
    "                        strides=[1, conv.get_shape()[1], conv.get_shape()[2],1],\n",
    "                        padding='VALID')\n",
    "  ## flatten\n",
    "  conv = tf.reshape(conv, shape=[-1])\n",
    "  conv = tf.nn.softmax(conv)\n",
    "\n",
    "conv"
   ]
  },
  {
   "cell_type": "markdown",
   "metadata": {
    "colab_type": "text",
    "id": "QBBU1PhHk6bP"
   },
   "source": [
    "### keras yolo"
   ]
  },
  {
   "cell_type": "code",
   "execution_count": 0,
   "metadata": {
    "colab": {
     "autoexec": {
      "startup": false,
      "wait_interval": 0
     }
    },
    "colab_type": "code",
    "id": "Hy38V2K72A-A"
   },
   "outputs": [],
   "source": [
    "import sys\n",
    "\n",
    "import numpy as np\n",
    "import tensorflow as tf\n",
    "from keras import backend as K\n",
    "from keras.layers import Lambda\n",
    "from keras.layers.merge import concatenate\n",
    "from keras.models import Model\n",
    "\n",
    "\n",
    "sys.path.append('..')\n",
    "\n",
    "voc_anchors = np.array(\n",
    "    [[1.08, 1.19], [3.42, 4.41], [6.63, 11.38], [9.42, 5.11], [16.62, 10.52]])\n",
    "\n",
    "voc_classes = [\n",
    "    \"aeroplane\", \"bicycle\", \"bird\", \"boat\", \"bottle\", \"bus\", \"car\", \"cat\",\n",
    "    \"chair\", \"cow\", \"diningtable\", \"dog\", \"horse\", \"motorbike\", \"person\",\n",
    "    \"pottedplant\", \"sheep\", \"sofa\", \"train\", \"tvmonitor\"\n",
    "]"
   ]
  },
  {
   "cell_type": "code",
   "execution_count": 0,
   "metadata": {
    "colab": {
     "autoexec": {
      "startup": false,
      "wait_interval": 0
     }
    },
    "colab_type": "code",
    "id": "73xKcfFN2yDc"
   },
   "outputs": [],
   "source": [
    "def space_to_depth_x2(x):\n",
    "    \"\"\"Thin wrapper for Tensorflow space_to_depth with block_size=2.\"\"\"\n",
    "    # Import currently required to make Lambda work.\n",
    "    # See: https://github.com/fchollet/keras/issues/5088#issuecomment-273851273\n",
    "    import tensorflow as tf\n",
    "    return tf.space_to_depth(x, block_size=2)\n",
    "\n",
    "\n",
    "def space_to_depth_x2_output_shape(input_shape):\n",
    "    \"\"\"Determine space_to_depth output shape for block_size=2.\n",
    "\n",
    "    Note: For Lambda with TensorFlow backend, output shape may not be needed.\n",
    "    \"\"\"\n",
    "    return (input_shape[0], input_shape[1] // 2, input_shape[2] // 2, 4 *\n",
    "            input_shape[3]) if input_shape[1] else (input_shape[0], None, None,\n",
    "                                                    4 * input_shape[3])\n",
    "\n",
    "def yolo_body(inputs, num_anchors, num_classes):\n",
    "    \"\"\"Create YOLO_V2 model CNN body in Keras.\"\"\"\n",
    "    darknet = Model(inputs, darknet_body()(inputs))\n",
    "    conv20 = compose(\n",
    "        DarknetConv2D_BN_Leaky(1024, (3, 3)),\n",
    "        DarknetConv2D_BN_Leaky(1024, (3, 3)))(darknet.output)\n",
    "\n",
    "    conv13 = darknet.layers[43].output\n",
    "    conv21 = DarknetConv2D_BN_Leaky(64, (1, 1))(conv13)\n",
    "    # TODO: Allow Keras Lambda to use func arguments for output_shape?\n",
    "    conv21_reshaped = Lambda(\n",
    "        space_to_depth_x2,\n",
    "        output_shape=space_to_depth_x2_output_shape,\n",
    "        name='space_to_depth')(conv21)\n",
    "\n",
    "    x = concatenate([conv21_reshaped, conv20])\n",
    "    x = DarknetConv2D_BN_Leaky(1024, (3, 3))(x)\n",
    "    x = DarknetConv2D(num_anchors * (num_classes + 5), (1, 1))(x)\n",
    "    return Model(inputs, x)"
   ]
  },
  {
   "cell_type": "code",
   "execution_count": 0,
   "metadata": {
    "colab": {
     "autoexec": {
      "startup": false,
      "wait_interval": 0
     }
    },
    "colab_type": "code",
    "id": "iJtxOoeE7aXO"
   },
   "outputs": [],
   "source": [
    "def yolo_head(feats, anchors, num_classes):\n",
    "    \"\"\"Convert final layer features to bounding box parameters.\n",
    "\n",
    "    Parameters\n",
    "    ----------\n",
    "    feats : tensor\n",
    "        Final convolutional layer features.\n",
    "    anchors : array-like\n",
    "        Anchor box widths and heights.\n",
    "    num_classes : int\n",
    "        Number of target classes.\n",
    "\n",
    "    Returns\n",
    "    -------\n",
    "    box_xy : tensor\n",
    "        x, y box predictions adjusted by spatial location in conv layer.\n",
    "    box_wh : tensor\n",
    "        w, h box predictions adjusted by anchors and conv spatial resolution.\n",
    "    box_conf : tensor\n",
    "        Probability estimate for whether each box contains any object.\n",
    "    box_class_pred : tensor\n",
    "        Probability distribution estimate for each box over class labels.\n",
    "    \"\"\"\n",
    "    num_anchors = len(anchors)\n",
    "    \n",
    "    # Reshape to batch, height, width, num_anchors, box_params.\n",
    "    anchors_tensor = K.reshape(K.variable(anchors), [1, 1, 1, num_anchors, 2])\n",
    "    \n",
    "    # Dynamic implementation of conv dims for fully convolutional model.\n",
    "    conv_dims = K.shape(feats)[1:3]  # assuming channels last\n",
    "    \n",
    "    # In YOLO the height index is the inner most iteration.\n",
    "    conv_height_index = K.arange(0, stop=conv_dims[0])\n",
    "    conv_width_index = K.arange(0, stop=conv_dims[1])\n",
    "    \n",
    "    # tile(x, n), 将x在各个维度上重复n次，x为张量，n为与x维度数目相同的列表\n",
    "    conv_height_index = K.tile(conv_height_index, [conv_dims[1]])\n",
    "\n",
    "    # TODO: Repeat_elements and tf.split doesn't support dynamic splits.\n",
    "    # conv_width_index = K.repeat_elements(conv_width_index, conv_dims[1], axis=0)\n",
    "    conv_width_index = K.tile(K.expand_dims(conv_width_index, 0), [conv_dims[0], 1])\n",
    "    conv_width_index = K.flatten(K.transpose(conv_width_index))\n",
    "    conv_index = K.transpose(K.stack([conv_height_index, conv_width_index]))\n",
    "    conv_index = K.reshape(conv_index, [1, conv_dims[0], conv_dims[1], 1, 2])\n",
    "    conv_index = K.cast(conv_index, K.dtype(feats))\n",
    "    \n",
    "    feats = K.reshape(feats, [-1, conv_dims[0], conv_dims[1], num_anchors, num_classes + 5])\n",
    "    conv_dims = K.cast(K.reshape(conv_dims, [1, 1, 1, 1, 2]), K.dtype(feats))\n",
    "\n",
    "\n",
    "    box_confidence = K.sigmoid(feats[..., 4:5])\n",
    "    box_xy = K.sigmoid(feats[..., :2])\n",
    "    box_wh = K.exp(feats[..., 2:4])\n",
    "    box_class_probs = K.softmax(feats[..., 5:])\n",
    "\n",
    "    # Adjust preditions to each spatial grid point and anchor size.\n",
    "    # Note: YOLO iterates over height index before width index.\n",
    "    box_xy = (box_xy + conv_index) / conv_dims\n",
    "    box_wh = box_wh * anchors_tensor / conv_dims\n",
    "\n",
    "    return box_confidence, box_xy, box_wh, box_class_probs"
   ]
  },
  {
   "cell_type": "code",
   "execution_count": 0,
   "metadata": {
    "colab": {
     "autoexec": {
      "startup": false,
      "wait_interval": 0
     }
    },
    "colab_type": "code",
    "id": "xaik1_1GD5na"
   },
   "outputs": [],
   "source": [
    "def yolo_boxes_to_corners(box_xy, box_wh):\n",
    "    \"\"\"Convert YOLO box predictions to bounding box corners.\"\"\"\n",
    "    box_mins = box_xy - (box_wh / 2.)\n",
    "    box_maxes = box_xy + (box_wh / 2.)\n",
    "\n",
    "    return K.concatenate([\n",
    "        box_mins[..., 1:2],  # y_min\n",
    "        box_mins[..., 0:1],  # x_min\n",
    "        box_maxes[..., 1:2],  # y_max\n",
    "        box_maxes[..., 0:1]  # x_max\n",
    "    ])"
   ]
  },
  {
   "cell_type": "code",
   "execution_count": 0,
   "metadata": {
    "colab": {
     "autoexec": {
      "startup": false,
      "wait_interval": 0
     }
    },
    "colab_type": "code",
    "id": "CHU7aVLkfz58"
   },
   "outputs": [],
   "source": [
    "def yolo_loss(args,\n",
    "              anchors,\n",
    "              num_classes,\n",
    "              rescore_confidence=False,\n",
    "              print_loss=False):\n",
    "    \"\"\"YOLO localization loss function.\n",
    "\n",
    "    Parameters\n",
    "    ----------\n",
    "    yolo_output : tensor\n",
    "        Final convolutional layer features.\n",
    "\n",
    "    true_boxes : tensor\n",
    "        Ground truth boxes tensor with shape [batch, num_true_boxes, 5]\n",
    "        containing box x_center, y_center, width, height, and class.\n",
    "\n",
    "    detectors_mask : array\n",
    "        0/1 mask for detector positions where there is a matching ground truth.\n",
    "\n",
    "    matching_true_boxes : array\n",
    "        Corresponding ground truth boxes for positive detector positions.\n",
    "        Already adjusted for conv height and width.\n",
    "\n",
    "    anchors : tensor\n",
    "        Anchor boxes for model.\n",
    "\n",
    "    num_classes : int\n",
    "        Number of object classes.\n",
    "\n",
    "    rescore_confidence : bool, default=False\n",
    "        If true then set confidence target to IOU of best predicted box with\n",
    "        the closest matching ground truth box.\n",
    "\n",
    "    print_loss : bool, default=False\n",
    "        If True then use a tf.Print() to print the loss components.\n",
    "\n",
    "    Returns\n",
    "    -------\n",
    "    mean_loss : float\n",
    "        mean localization loss across minibatch\n",
    "    \"\"\"\n",
    "    (yolo_output, true_boxes, detectors_mask, matching_true_boxes) = args\n",
    "    num_anchors = len(anchors)\n",
    "    object_scale = 5\n",
    "    no_object_scale = 1\n",
    "    class_scale = 1\n",
    "    coordinates_scale = 1\n",
    "    pred_xy, pred_wh, pred_confidence, pred_class_prob = yolo_head(\n",
    "        yolo_output, anchors, num_classes)\n",
    "\n",
    "    # Unadjusted box predictions for loss.\n",
    "    # TODO: Remove extra computation shared with yolo_head.\n",
    "    yolo_output_shape = K.shape(yolo_output)\n",
    "    feats = K.reshape(yolo_output, [\n",
    "        -1, yolo_output_shape[1], yolo_output_shape[2], num_anchors,\n",
    "        num_classes + 5\n",
    "    ])\n",
    "    pred_boxes = K.concatenate(\n",
    "        (K.sigmoid(feats[..., 0:2]), feats[..., 2:4]), axis=-1)\n",
    "\n",
    "    # Expand pred x,y,w,h to allow comparison with ground truth.\n",
    "    # batch, conv_height, conv_width, num_anchors, num_true_boxes, box_params\n",
    "    pred_xy = K.expand_dims(pred_xy, 4)\n",
    "    pred_wh = K.expand_dims(pred_wh, 4)\n",
    "\n",
    "    pred_wh_half = pred_wh / 2.\n",
    "    pred_mins = pred_xy - pred_wh_half\n",
    "    pred_maxes = pred_xy + pred_wh_half\n",
    "\n",
    "    true_boxes_shape = K.shape(true_boxes)\n",
    "\n",
    "    # batch, conv_height, conv_width, num_anchors, num_true_boxes, box_params\n",
    "    true_boxes = K.reshape(true_boxes, [\n",
    "        true_boxes_shape[0], 1, 1, 1, true_boxes_shape[1], true_boxes_shape[2]\n",
    "    ])\n",
    "    true_xy = true_boxes[..., 0:2]\n",
    "    true_wh = true_boxes[..., 2:4]\n",
    "\n",
    "    # Find IOU of each predicted box with each ground truth box.\n",
    "    true_wh_half = true_wh / 2.\n",
    "    true_mins = true_xy - true_wh_half\n",
    "    true_maxes = true_xy + true_wh_half\n",
    "\n",
    "    intersect_mins = K.maximum(pred_mins, true_mins)\n",
    "    intersect_maxes = K.minimum(pred_maxes, true_maxes)\n",
    "    intersect_wh = K.maximum(intersect_maxes - intersect_mins, 0.)\n",
    "    intersect_areas = intersect_wh[..., 0] * intersect_wh[..., 1]\n",
    "\n",
    "    pred_areas = pred_wh[..., 0] * pred_wh[..., 1]\n",
    "    true_areas = true_wh[..., 0] * true_wh[..., 1]\n",
    "\n",
    "    union_areas = pred_areas + true_areas - intersect_areas\n",
    "    iou_scores = intersect_areas / union_areas\n",
    "\n",
    "    # Best IOUs for each location.\n",
    "    best_ious = K.max(iou_scores, axis=4)  # Best IOU scores.\n",
    "    best_ious = K.expand_dims(best_ious)\n",
    "\n",
    "    # A detector has found an object if IOU > thresh for some true box.\n",
    "    object_detections = K.cast(best_ious > 0.6, K.dtype(best_ious))\n",
    "\n",
    "    # TODO: Darknet region training includes extra coordinate loss for early\n",
    "    # training steps to encourage predictions to match anchor priors.\n",
    "\n",
    "    # Determine confidence weights from object and no_object weights.\n",
    "    # NOTE: YOLO does not use binary cross-entropy here.\n",
    "    no_object_weights = (no_object_scale * (1 - object_detections) *\n",
    "                         (1 - detectors_mask))\n",
    "    no_objects_loss = no_object_weights * K.square(-pred_confidence)\n",
    "\n",
    "    if rescore_confidence:\n",
    "        objects_loss = (object_scale * detectors_mask *\n",
    "                        K.square(best_ious - pred_confidence))\n",
    "    else:\n",
    "        objects_loss = (object_scale * detectors_mask *\n",
    "                        K.square(1 - pred_confidence))\n",
    "    confidence_loss = objects_loss + no_objects_loss\n",
    "\n",
    "    # Classification loss for matching detections.\n",
    "    # NOTE: YOLO does not use categorical cross-entropy loss here.\n",
    "    matching_classes = K.cast(matching_true_boxes[..., 4], 'int32')\n",
    "    matching_classes = K.one_hot(matching_classes, num_classes)\n",
    "    classification_loss = (class_scale * detectors_mask *\n",
    "                           K.square(matching_classes - pred_class_prob))\n",
    "\n",
    "    # Coordinate loss for matching detection boxes.\n",
    "    matching_boxes = matching_true_boxes[..., 0:4]\n",
    "    coordinates_loss = (coordinates_scale * detectors_mask *\n",
    "                        K.square(matching_boxes - pred_boxes))\n",
    "\n",
    "    confidence_loss_sum = K.sum(confidence_loss)\n",
    "    classification_loss_sum = K.sum(classification_loss)\n",
    "    coordinates_loss_sum = K.sum(coordinates_loss)\n",
    "    total_loss = 0.5 * (\n",
    "        confidence_loss_sum + classification_loss_sum + coordinates_loss_sum)\n",
    "    if print_loss:\n",
    "        total_loss = tf.Print(\n",
    "            total_loss, [\n",
    "                total_loss, confidence_loss_sum, classification_loss_sum,\n",
    "                coordinates_loss_sum\n",
    "            ],\n",
    "            message='yolo_loss, conf_loss, class_loss, box_coord_loss:')\n",
    "\n",
    "    return total_loss\n"
   ]
  },
  {
   "cell_type": "code",
   "execution_count": 0,
   "metadata": {
    "colab": {
     "autoexec": {
      "startup": false,
      "wait_interval": 0
     }
    },
    "colab_type": "code",
    "id": "XjI32IXNEbMA"
   },
   "outputs": [],
   "source": [
    "def yolo(inputs, anchors, num_classes):\n",
    "    \"\"\"Generate a complete YOLO_v2 localization model.\"\"\"\n",
    "    num_anchors = len(anchors)\n",
    "    body = yolo_body(inputs, num_anchors, num_classes)\n",
    "    outputs = yolo_head(body.output, anchors, num_classes)\n",
    "    return outputs"
   ]
  },
  {
   "cell_type": "code",
   "execution_count": 0,
   "metadata": {
    "colab": {
     "autoexec": {
      "startup": false,
      "wait_interval": 0
     }
    },
    "colab_type": "code",
    "id": "6fRk-tuWEe-t"
   },
   "outputs": [],
   "source": [
    "\n",
    "def yolo_filter_boxes(box_confidence, boxes, box_class_probs, threshold=.6):\n",
    "    \"\"\"Filter YOLO boxes based on object and class confidence.\"\"\"\n",
    "\n",
    "    box_scores = box_confidence * box_class_probs\n",
    "    box_classes = K.argmax(box_scores, axis=-1)\n",
    "    box_class_scores = K.max(box_scores, axis=-1)\n",
    "    prediction_mask = box_class_scores >= threshold\n",
    "\n",
    "    # TODO: Expose tf.boolean_mask to Keras backend?\n",
    "    boxes = tf.boolean_mask(boxes, prediction_mask)\n",
    "    scores = tf.boolean_mask(box_class_scores, prediction_mask)\n",
    "    classes = tf.boolean_mask(box_classes, prediction_mask)\n",
    "\n",
    "    return boxes, scores, classes"
   ]
  },
  {
   "cell_type": "code",
   "execution_count": 0,
   "metadata": {
    "colab": {
     "autoexec": {
      "startup": false,
      "wait_interval": 0
     }
    },
    "colab_type": "code",
    "id": "t-g82MYMEjDi"
   },
   "outputs": [],
   "source": [
    "def yolo_eval(yolo_outputs,\n",
    "              image_shape,\n",
    "              max_boxes=10,\n",
    "              score_threshold=.6,\n",
    "              iou_threshold=.5):\n",
    "    \"\"\"Evaluate YOLO model on given input batch and return filtered boxes.\"\"\"\n",
    "    box_confidence, box_xy, box_wh, box_class_probs = yolo_outputs\n",
    "    boxes = yolo_boxes_to_corners(box_xy, box_wh)\n",
    "    ## add masks\n",
    "    boxes, scores, classes = yolo_filter_boxes(\n",
    "        box_confidence, boxes, box_class_probs, threshold=score_threshold)\n",
    "    \n",
    "    # Scale boxes back to original image shape.\n",
    "    height = image_shape[0]\n",
    "    width = image_shape[1]\n",
    "    image_dims = K.stack([height, width, height, width])\n",
    "    image_dims = K.reshape(image_dims, [1, 4])\n",
    "    boxes = boxes * image_dims\n",
    "\n",
    "    # TODO: Something must be done about this ugly hack!\n",
    "    max_boxes_tensor = K.variable(max_boxes, dtype='int32')\n",
    "    K.get_session().run(tf.variables_initializer([max_boxes_tensor]))\n",
    "    nms_index = tf.image.non_max_suppression(\n",
    "        boxes, scores, max_boxes_tensor, iou_threshold=iou_threshold)\n",
    "    boxes = K.gather(boxes, nms_index)\n",
    "    scores = K.gather(scores, nms_index)\n",
    "    classes = K.gather(classes, nms_index)\n",
    "    \n",
    "    return boxes, scores, classes"
   ]
  },
  {
   "cell_type": "code",
   "execution_count": 0,
   "metadata": {
    "colab": {
     "autoexec": {
      "startup": false,
      "wait_interval": 0
     }
    },
    "colab_type": "code",
    "id": "NfJto7WgEniD"
   },
   "outputs": [],
   "source": [
    "\n",
    "def preprocess_true_boxes(true_boxes, anchors, image_size):\n",
    "    \"\"\"Find detector in YOLO where ground truth box should appear.\n",
    "\n",
    "    Parameters\n",
    "    ----------\n",
    "    true_boxes : array\n",
    "        List of ground truth boxes in form of relative x, y, w, h, class.\n",
    "        Relative coordinates are in the range [0, 1] indicating a percentage\n",
    "        of the original image dimensions.\n",
    "    anchors : array\n",
    "        List of anchors in form of w, h.\n",
    "        Anchors are assumed to be in the range [0, conv_size] where conv_size\n",
    "        is the spatial dimension of the final convolutional features.\n",
    "    image_size : array-like\n",
    "        List of image dimensions in form of h, w in pixels.\n",
    "\n",
    "    Returns\n",
    "    -------\n",
    "    detectors_mask : array\n",
    "        0/1 mask for detectors in [conv_height, conv_width, num_anchors, 1]\n",
    "        that should be compared with a matching ground truth box.\n",
    "    matching_true_boxes: array\n",
    "        Same shape as detectors_mask with the corresponding ground truth box\n",
    "        adjusted for comparison with predicted parameters at training time.\n",
    "    \"\"\"\n",
    "    height, width = image_size\n",
    "    num_anchors = len(anchors)\n",
    "    # Downsampling factor of 5x 2-stride max_pools == 32.\n",
    "    # TODO: Remove hardcoding of downscaling calculations.\n",
    "    assert height % 32 == 0, 'Image sizes in YOLO_v2 must be multiples of 32.'\n",
    "    assert width % 32 == 0, 'Image sizes in YOLO_v2 must be multiples of 32.'\n",
    "    conv_height = height // 32\n",
    "    conv_width = width // 32\n",
    "    num_box_params = true_boxes.shape[1]\n",
    "    detectors_mask = np.zeros(\n",
    "        (conv_height, conv_width, num_anchors, 1), dtype=np.float32)\n",
    "    matching_true_boxes = np.zeros(\n",
    "        (conv_height, conv_width, num_anchors, num_box_params),\n",
    "        dtype=np.float32)\n",
    "\n",
    "    for box in true_boxes:\n",
    "        # scale box to convolutional feature spatial dimensions\n",
    "        box_class = box[4]\n",
    "        box = box[0:4] * np.array(\n",
    "            [conv_width, conv_height, conv_width, conv_height])\n",
    "        i = np.floor(box[1]).astype('int')\n",
    "        j = min(np.floor(box[0]).astype('int'),1)\n",
    "        best_iou = 0\n",
    "        best_anchor = 0\n",
    "                \n",
    "        for k, anchor in enumerate(anchors):\n",
    "            # Find IOU between box shifted to origin and anchor box.\n",
    "            box_maxes = box[2:4] / 2.\n",
    "            box_mins = -box_maxes\n",
    "            anchor_maxes = (anchor / 2.)\n",
    "            anchor_mins = -anchor_maxes\n",
    "\n",
    "            intersect_mins = np.maximum(box_mins, anchor_mins)\n",
    "            intersect_maxes = np.minimum(box_maxes, anchor_maxes)\n",
    "            intersect_wh = np.maximum(intersect_maxes - intersect_mins, 0.)\n",
    "            intersect_area = intersect_wh[0] * intersect_wh[1]\n",
    "            box_area = box[2] * box[3]\n",
    "            anchor_area = anchor[0] * anchor[1]\n",
    "            iou = intersect_area / (box_area + anchor_area - intersect_area)\n",
    "            if iou > best_iou:\n",
    "                best_iou = iou\n",
    "                best_anchor = k\n",
    "                \n",
    "        if best_iou > 0:\n",
    "            detectors_mask[i, j, best_anchor] = 1\n",
    "            adjusted_box = np.array(\n",
    "                [\n",
    "                    box[0] - j, box[1] - i,\n",
    "                    np.log(box[2] / anchors[best_anchor][0]),\n",
    "                    np.log(box[3] / anchors[best_anchor][1]), box_class\n",
    "                ],\n",
    "                dtype=np.float32)\n",
    "            matching_true_boxes[i, j, best_anchor] = adjusted_box\n",
    "    return detectors_mask, matching_true_boxes"
   ]
  }
 ],
 "metadata": {
  "colab": {
   "collapsed_sections": [
    "87KlNlA6kvDS",
    "1KYmrOlKknh4",
    "xX6lpWT_h53-",
    "L8lYSHQkhvF6",
    "JfP_wmjMqTT5"
   ],
   "default_view": {},
   "name": "YOLO and DarkNet utils (before week3 assignment).ipynb",
   "provenance": [],
   "toc_visible": true,
   "version": "0.3.2",
   "views": {}
  },
  "kernelspec": {
   "display_name": "Python 3",
   "language": "python",
   "name": "python3"
  },
  "language_info": {
   "codemirror_mode": {
    "name": "ipython",
    "version": 3
   },
   "file_extension": ".py",
   "mimetype": "text/x-python",
   "name": "python",
   "nbconvert_exporter": "python",
   "pygments_lexer": "ipython3",
   "version": "3.5.2"
  },
  "latex_envs": {
   "LaTeX_envs_menu_present": true,
   "autoclose": false,
   "autocomplete": true,
   "bibliofile": "biblio.bib",
   "cite_by": "apalike",
   "current_citInitial": 1,
   "eqLabelWithNumbers": true,
   "eqNumInitial": 1,
   "hotkeys": {
    "equation": "Ctrl-E",
    "itemize": "Ctrl-I"
   },
   "labels_anchors": false,
   "latex_user_defs": false,
   "report_style_numbering": false,
   "user_envs_cfg": false
  }
 },
 "nbformat": 4,
 "nbformat_minor": 1
}
