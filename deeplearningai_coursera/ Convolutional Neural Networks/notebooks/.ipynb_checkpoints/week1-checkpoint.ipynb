{
 "cells": [
  {
   "cell_type": "markdown",
   "metadata": {
    "heading_collapsed": true
   },
   "source": [
    "## Intro"
   ]
  },
  {
   "cell_type": "markdown",
   "metadata": {
    "hidden": true
   },
   "source": [
    "![](../images/1.png)\n",
    "\n",
    "If working with very large images, like the images on lower right, shape: 1000x1000x3\n",
    "\n",
    "![](../images/2.png)\n",
    "\n",
    "That means X here will be three million dimensional, so in the first hidden layer maybe you have just a 1000 hidden units then the total number of weights that is the matrix W1, which will be (1000, 3m) dimensional matrix. Training a NN with 3m parameters is just infeasible.\n",
    "\n",
    "__Thus convolution is needed.__"
   ]
  },
  {
   "cell_type": "markdown",
   "metadata": {
    "heading_collapsed": true
   },
   "source": [
    "## Edge Detection Example"
   ]
  },
  {
   "cell_type": "markdown",
   "metadata": {
    "hidden": true
   },
   "source": [
    "![](../images/3.png)\n",
    "\n",
    "> How does Convolution work?\n",
    "![](../images/4.png)\n",
    "\n",
    "### Vertical Edge Detection\n",
    "\n",
    "![](../images/5.png)\n",
    "\n",
    "> Why does the vertical edge here appears to be extra thick?\n",
    "\n",
    "Because the image we are using is too small. If we are using a 1000x1000 image rather than a 6x6 image like we use in the case, we will find that this actually does a pretty good job.\n",
    "\n",
    "![](../images/7.png)\n",
    "\n",
    "\n"
   ]
  },
  {
   "cell_type": "markdown",
   "metadata": {},
   "source": [
    "## Padding"
   ]
  },
  {
   "cell_type": "markdown",
   "metadata": {},
   "source": [
    "To avoid image shrinking if NN is very deep.\n",
    "\n",
    "![](../images/8.png)\n",
    "\n",
    "- __Valid__ and __Same__ convolutions\n",
    "    - Valid: __No padding__\n",
    "        - nxn * fxf -> n-(f-1) =  (n -f +1) x (n -f +1)\n",
    "    - Same: __Pad__ so that output size is the same as the input size\n",
    "        - (n+2p - (f-1)) x (n+2p - (f-1)) -> (n+2p -f+1) x (n+2p -f+1)\n",
    "        - n+2p - (f-1) = n , so p=(f-1)/2, thus f is usually odd\n"
   ]
  },
  {
   "cell_type": "markdown",
   "metadata": {},
   "source": [
    "## Strided Convolutions"
   ]
  },
  {
   "cell_type": "markdown",
   "metadata": {},
   "source": [
    "![](../images/9.png)\n",
    "\n",
    "![](../images/10.png)\n",
    "\n"
   ]
  }
 ],
 "metadata": {
  "kernelspec": {
   "display_name": "Python 3",
   "language": "python",
   "name": "python3"
  },
  "language_info": {
   "codemirror_mode": {
    "name": "ipython",
    "version": 3
   },
   "file_extension": ".py",
   "mimetype": "text/x-python",
   "name": "python",
   "nbconvert_exporter": "python",
   "pygments_lexer": "ipython3",
   "version": "3.5.2"
  },
  "latex_envs": {
   "LaTeX_envs_menu_present": true,
   "autoclose": false,
   "autocomplete": true,
   "bibliofile": "biblio.bib",
   "cite_by": "apalike",
   "current_citInitial": 1,
   "eqLabelWithNumbers": true,
   "eqNumInitial": 1,
   "hotkeys": {
    "equation": "Ctrl-E",
    "itemize": "Ctrl-I"
   },
   "labels_anchors": false,
   "latex_user_defs": false,
   "report_style_numbering": false,
   "user_envs_cfg": false
  }
 },
 "nbformat": 4,
 "nbformat_minor": 2
}
