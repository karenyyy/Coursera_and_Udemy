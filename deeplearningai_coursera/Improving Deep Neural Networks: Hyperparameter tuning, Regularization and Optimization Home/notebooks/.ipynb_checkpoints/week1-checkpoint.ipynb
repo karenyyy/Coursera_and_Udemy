{
 "cells": [
  {
   "cell_type": "markdown",
   "metadata": {},
   "source": [
    "## Week1"
   ]
  },
  {
   "cell_type": "markdown",
   "metadata": {},
   "source": [
    "### Train/development(dev)/test datasets"
   ]
  },
  {
   "cell_type": "markdown",
   "metadata": {},
   "source": [
    "- Notes: \n",
    "    - train test split ratio in normal dataset and modern big dataset is quite different.\n",
    "    - not having test dataset is also ok, just use the dev set as the test set.\n",
    "\n",
    "![](../images/1.png)\n",
    "\n",
    "> What if the distribution between training dataset and the validation dataset are mismatched?\n",
    "\n",
    "__Fix: Make sure the dev and test dataset come from the same distribution!__\n",
    "![](../images/2.png)"
   ]
  },
  {
   "cell_type": "markdown",
   "metadata": {},
   "source": [
    "### Bias and Variance (bias-variance trade-off)"
   ]
  },
  {
   "cell_type": "markdown",
   "metadata": {},
   "source": [
    "![](../images/3.png)\n",
    "\n",
    "![](../images/4.png)\n",
    "\n",
    "- __Basic recipes for machine learning__\n",
    "    - High bias (underfitting)\n",
    "        - bigger network\n",
    "        - train longer iterations\n",
    "        - try other neural network architecture approach\n",
    "    - High variance (overfitting)\n",
    "        - get more data (data augmentation)\n",
    "        - regularization\n",
    "        \n",
    "![](../images/5.png)\n",
    "\n"
   ]
  },
  {
   "cell_type": "markdown",
   "metadata": {},
   "source": [
    "### Regularization"
   ]
  },
  {
   "cell_type": "markdown",
   "metadata": {},
   "source": [
    "$$\\min_{w, b} J(w, b)$$\n",
    "\n",
    "$$\\text{ where } J(w,b) = \\frac{1}{m} \\sum^m_{i=1} L(\\hat y^{(i)}, y^{(i)}) + \\frac{\\alpha}{2m} ||w||_2^2$$\n",
    "\n",
    "$$\\text{ and where },   ||w||_2^2 = \\sum_{j=1}^{n_x} w_j^2 = w^Tw$$\n",
    "\n"
   ]
  },
  {
   "cell_type": "code",
   "execution_count": null,
   "metadata": {},
   "outputs": [],
   "source": []
  }
 ],
 "metadata": {
  "kernelspec": {
   "display_name": "Python 3",
   "language": "python",
   "name": "python3"
  },
  "language_info": {
   "codemirror_mode": {
    "name": "ipython",
    "version": 3
   },
   "file_extension": ".py",
   "mimetype": "text/x-python",
   "name": "python",
   "nbconvert_exporter": "python",
   "pygments_lexer": "ipython3",
   "version": "3.5.2"
  },
  "latex_envs": {
   "LaTeX_envs_menu_present": true,
   "autoclose": false,
   "autocomplete": true,
   "bibliofile": "biblio.bib",
   "cite_by": "apalike",
   "current_citInitial": 1,
   "eqLabelWithNumbers": true,
   "eqNumInitial": 1,
   "hotkeys": {
    "equation": "Ctrl-E",
    "itemize": "Ctrl-I"
   },
   "labels_anchors": false,
   "latex_user_defs": false,
   "report_style_numbering": false,
   "user_envs_cfg": false
  }
 },
 "nbformat": 4,
 "nbformat_minor": 2
}
