{
 "cells": [
  {
   "cell_type": "markdown",
   "metadata": {},
   "source": [
    "## Week1"
   ]
  },
  {
   "cell_type": "markdown",
   "metadata": {
    "heading_collapsed": true
   },
   "source": [
    "### Train/development(dev)/test datasets"
   ]
  },
  {
   "cell_type": "markdown",
   "metadata": {
    "hidden": true
   },
   "source": [
    "- Notes: \n",
    "    - train test split ratio in normal dataset and modern big dataset is quite different.\n",
    "    - not having test dataset is also ok, just use the dev set as the test set.\n",
    "\n",
    "![](../images/1.png)\n",
    "\n",
    "> What if the distribution between training dataset and the validation dataset are mismatched?\n",
    "\n",
    "__Fix: Make sure the dev and test dataset come from the same distribution!__\n",
    "![](../images/2.png)"
   ]
  },
  {
   "cell_type": "markdown",
   "metadata": {
    "heading_collapsed": true
   },
   "source": [
    "### Bias and Variance (bias-variance trade-off)"
   ]
  },
  {
   "cell_type": "markdown",
   "metadata": {
    "hidden": true
   },
   "source": [
    "![](../images/3.png)\n",
    "\n",
    "![](../images/4.png)\n",
    "\n",
    "- __Basic recipes for machine learning__\n",
    "    - High bias (underfitting)\n",
    "        - bigger network\n",
    "        - train longer iterations\n",
    "        - try other neural network architecture approach\n",
    "    - High variance (overfitting)\n",
    "        - get more data (data augmentation)\n",
    "        - regularization\n",
    "        \n",
    "![](../images/5.png)\n",
    "\n"
   ]
  },
  {
   "cell_type": "markdown",
   "metadata": {
    "heading_collapsed": true
   },
   "source": [
    "### Regularization"
   ]
  },
  {
   "cell_type": "markdown",
   "metadata": {
    "hidden": true
   },
   "source": [
    "- For a single layer NN:\n",
    "$$\\min_{w, b} J(w, b)$$\n",
    "\n",
    "$$\\text{ where } J(w,b) = \\frac{1}{m} \\sum^m_{i=1} L(\\hat y^{(i)}, y^{(i)}) + \\frac{\\lambda}{2m} ||w||_2^2$$\n",
    "\n",
    "$$\\text{ and where },   ||w||_2^2 = \\sum_{j=1}^{n_x} w_j^2 = w^Tw$$\n",
    "\n",
    "- For a multiple-layer NN\n",
    "$$J(w^{[1]}, b^{[1]}, ..., w^{[L]}, b^{[L]}) = \\frac{1}{m}\\sum^n_{i=1} L(\\hat y ^{(i)},  y^{(i)}) + \\frac{\\lambda}{2m} \\sum^{L}_{l=1} ||w^{[l]}||^2_F$$\n",
    "\n",
    "$$\\text{ where } ||w^{[l]}||^2_F = \\sum^{}_{}\\sum^{}_{} (w_{ij}^{[l]})^2 $$\n",
    "\n",
    "So\n",
    "\n",
    "$$dw^{[l]} = (\\text{ from backprop }) + \\frac{\\lambda}{m} w^{[l]}$$\n",
    "\n",
    "$$\\text{ here from backprop } dw^{[l]} = \\frac{1}{m} dz^{[l]}A^{T} $$\n",
    "$$w^{[l]} = w^{[l]} - \\alpha \\cdot dw^{[l]}$$\n",
    "\n",
    "\n",
    "- why can regularization prevent overfitting?\n",
    "\n",
    "![](../images/6.png)\n",
    "\n",
    "- One piece of intuition is that, if you crank the regularization lambda to be really big, they will be incentivized to set the weight matrices W to be reasonably close to zero, which is basically zeroing out a lot of the impact of these hidden units\n",
    "- Vice Versa. If w is really big, then lambda is close to zero;\n",
    "\n",
    "\n",
    "![](../images/7.png)\n",
    "\n",
    "\n",
    "![](../images/8.png)\n",
    "\n",
    "__Note: Put all the intuition aside, zeroing out W in practice is not actually what happens. We should think of it as zeroing out or at least reducing the impact of a lot of the hidden units so you end up with what might feel like a simpler network.__\n",
    "\n",
    "__The intuition of completely zeroing out a hidden unit isn't quite right. What actually happens is they will still use all the hidden units, but each of them would just have a much smaller effect. But you do end up with a simpler network and as thus less prome to overfitting.__\n",
    "\n",
    "![](../images/9.png)\n",
    "\n",
    "- An example exactly why regularization prevent overfitting?\n",
    "\n",
    "- Use tanh as activation function\n",
    "- if z is quite small, if z takes on only a smallish range of parameters, __then you are just using the linear regime of the tanh__, only if z is allowed to wander up to larger values or smaller values like so, then the activation function starts to become less linear.\n",
    "- So, as we know, if lambda is large, w will be small, because they are penalized being large into a cost function, since \n",
    "\n",
    "$$z^{[l]} = w^{[l]} a^{[l-1]} +b^{[l]}$$\n",
    "\n",
    "- if w tends to be very small, then z will also be relatively small, and if z ends up taking relatively small values,  then g(z) will be roughly linear, so if every layer is roughly linear, then the whole network is basically linea, __so not able to fit the very non-linear decision boundaries that allow it to really overfit right to datasets like we saw on the overfitting high variance case__\n",
    "\n",
    "#### Extra note:\n",
    "> how to use cost function to debug gradient descent function?\n",
    "\n",
    "![](../images/10.png)\n",
    "\n",
    "As we can see, the expected cost decreases monotonically after every elevation of gradient descent.\n",
    "\n",
    "__Make sure add the regularization part into J!!__"
   ]
  },
  {
   "cell_type": "markdown",
   "metadata": {
    "hidden": true
   },
   "source": [
    "#### Dropout Regularization\n",
    "\n",
    "- Inverted dropout\n",
    "\n",
    "![](../images/11.png)\n",
    "\n",
    "Since the NN value of a is reduced, to make sure the NN value of z remains the same, use inverted dropout, which means increase NN size of a by __a/ = keep.prob__, so that we don't need to add add in an extra scalling parameter at test time, and this inverted dropout technique makes test time when evaluating the NN easier, because we have less of a scaling problem.\n",
    "\n",
    "__No Dropout at test time! that's just adding noise to the final result__\n",
    "\n",
    "#### Why does dropout work?\n",
    "\n",
    "__Intuition: Can't rely on any one feature, so have to spread out weights.__\n",
    "\n",
    "![](../images/12.png)\n",
    "\n",
    "\n",
    "#### Other methods of regularization\n",
    "- Data Augmentation\n",
    "\n",
    "![](../images/13.png)\n",
    "\n",
    "- Early Stopping\n",
    "\n",
    "![](../images/15.png)"
   ]
  },
  {
   "cell_type": "markdown",
   "metadata": {},
   "source": [
    "### Setting up your optimization problem"
   ]
  },
  {
   "cell_type": "markdown",
   "metadata": {},
   "source": [
    "#### Normalizing inputs\n",
    "\n",
    "![](../images/16.png)\n",
    "\n",
    "__Note: If you normalize your features, your cost function will on average look more symmetric. So when you are running gradient descent on the cost function like the one on the left, might need to use a very small learning rate because GD might need a lot of steps to oscillate back and forth before it finds its way to the minimum.__\n",
    "\n"
   ]
  },
  {
   "cell_type": "markdown",
   "metadata": {},
   "source": [
    "#### Vanishing / Exploding gradients"
   ]
  },
  {
   "cell_type": "markdown",
   "metadata": {},
   "source": [
    "![](../images/17.png)\n",
    "\n",
    "$$\\hat y = 1.5^L \\rightarrow gradident \\: explode$$\n",
    "\n",
    "![](../images/18.png)\n",
    "\n",
    "$$\\hat y = 0.5^L \\rightarrow gradident \\: vanish$$\n",
    "\n",
    "\n",
    "> Fix: Careful with the weight initialization for deep networks\n",
    "\n",
    "![](../images/19.png)\n",
    "\n",
    "\n",
    "__Xavier initialization: if you are using tanh as activation function__\n",
    "\n",
    "![](../images/20.png)\n",
    "\n",
    "\n",
    "- another approach\n",
    "![](../images/21.png)\n",
    "\n",
    "\n",
    "> Gradient checking (__use centered gradient(two-sided)__): to make sure your backprop is correct\n",
    "\n",
    "![](../images/22.png)\n",
    "\n",
    "\n",
    "![](../images/23.png)\n",
    "\n",
    "![](../images/24.png)\n",
    "\n"
   ]
  }
 ],
 "metadata": {
  "kernelspec": {
   "display_name": "Python 3",
   "language": "python",
   "name": "python3"
  },
  "language_info": {
   "codemirror_mode": {
    "name": "ipython",
    "version": 3
   },
   "file_extension": ".py",
   "mimetype": "text/x-python",
   "name": "python",
   "nbconvert_exporter": "python",
   "pygments_lexer": "ipython3",
   "version": "3.5.2"
  },
  "latex_envs": {
   "LaTeX_envs_menu_present": true,
   "autoclose": false,
   "autocomplete": true,
   "bibliofile": "biblio.bib",
   "cite_by": "apalike",
   "current_citInitial": 1,
   "eqLabelWithNumbers": true,
   "eqNumInitial": 1,
   "hotkeys": {
    "equation": "Ctrl-E",
    "itemize": "Ctrl-I"
   },
   "labels_anchors": false,
   "latex_user_defs": false,
   "report_style_numbering": false,
   "user_envs_cfg": false
  }
 },
 "nbformat": 4,
 "nbformat_minor": 2
}
